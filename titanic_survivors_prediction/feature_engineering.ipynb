{
 "cells": [
  {
   "cell_type": "code",
   "id": "initial_id",
   "metadata": {
    "collapsed": true,
    "ExecuteTime": {
     "end_time": "2025-06-07T15:38:32.104551Z",
     "start_time": "2025-06-07T15:38:24.238416Z"
    }
   },
   "source": [
    "import pandas as pd\n",
    "import os\n",
    "\n",
    "from unicodedata2 import category"
   ],
   "outputs": [],
   "execution_count": 1
  },
  {
   "metadata": {},
   "cell_type": "markdown",
   "source": "# Loading the data",
   "id": "437e8d7abeadf1e9"
  },
  {
   "metadata": {
    "ExecuteTime": {
     "end_time": "2025-06-07T15:38:33.194762Z",
     "start_time": "2025-06-07T15:38:33.126961Z"
    }
   },
   "cell_type": "code",
   "source": [
    "DIR_DATASET = os.path.join(os.getcwd(), 'dataset')\n",
    "DIR_SUBMISSIONS = os.path.join(os.getcwd(), 'submissions')\n",
    "\n",
    "train = pd.read_csv(os.path.join(DIR_DATASET, 'train.csv'))\n",
    "display(train)"
   ],
   "id": "66a4849704fc1809",
   "outputs": [
    {
     "data": {
      "text/plain": [
       "     PassengerId  Survived  Pclass  \\\n",
       "0              1         0       3   \n",
       "1              2         1       1   \n",
       "2              3         1       3   \n",
       "3              4         1       1   \n",
       "4              5         0       3   \n",
       "..           ...       ...     ...   \n",
       "886          887         0       2   \n",
       "887          888         1       1   \n",
       "888          889         0       3   \n",
       "889          890         1       1   \n",
       "890          891         0       3   \n",
       "\n",
       "                                                  Name     Sex   Age  SibSp  \\\n",
       "0                              Braund, Mr. Owen Harris    male  22.0      1   \n",
       "1    Cumings, Mrs. John Bradley (Florence Briggs Th...  female  38.0      1   \n",
       "2                               Heikkinen, Miss. Laina  female  26.0      0   \n",
       "3         Futrelle, Mrs. Jacques Heath (Lily May Peel)  female  35.0      1   \n",
       "4                             Allen, Mr. William Henry    male  35.0      0   \n",
       "..                                                 ...     ...   ...    ...   \n",
       "886                              Montvila, Rev. Juozas    male  27.0      0   \n",
       "887                       Graham, Miss. Margaret Edith  female  19.0      0   \n",
       "888           Johnston, Miss. Catherine Helen \"Carrie\"  female   NaN      1   \n",
       "889                              Behr, Mr. Karl Howell    male  26.0      0   \n",
       "890                                Dooley, Mr. Patrick    male  32.0      0   \n",
       "\n",
       "     Parch            Ticket     Fare Cabin Embarked  \n",
       "0        0         A/5 21171   7.2500   NaN        S  \n",
       "1        0          PC 17599  71.2833   C85        C  \n",
       "2        0  STON/O2. 3101282   7.9250   NaN        S  \n",
       "3        0            113803  53.1000  C123        S  \n",
       "4        0            373450   8.0500   NaN        S  \n",
       "..     ...               ...      ...   ...      ...  \n",
       "886      0            211536  13.0000   NaN        S  \n",
       "887      0            112053  30.0000   B42        S  \n",
       "888      2        W./C. 6607  23.4500   NaN        S  \n",
       "889      0            111369  30.0000  C148        C  \n",
       "890      0            370376   7.7500   NaN        Q  \n",
       "\n",
       "[891 rows x 12 columns]"
      ],
      "text/html": [
       "<div>\n",
       "<style scoped>\n",
       "    .dataframe tbody tr th:only-of-type {\n",
       "        vertical-align: middle;\n",
       "    }\n",
       "\n",
       "    .dataframe tbody tr th {\n",
       "        vertical-align: top;\n",
       "    }\n",
       "\n",
       "    .dataframe thead th {\n",
       "        text-align: right;\n",
       "    }\n",
       "</style>\n",
       "<table border=\"1\" class=\"dataframe\">\n",
       "  <thead>\n",
       "    <tr style=\"text-align: right;\">\n",
       "      <th></th>\n",
       "      <th>PassengerId</th>\n",
       "      <th>Survived</th>\n",
       "      <th>Pclass</th>\n",
       "      <th>Name</th>\n",
       "      <th>Sex</th>\n",
       "      <th>Age</th>\n",
       "      <th>SibSp</th>\n",
       "      <th>Parch</th>\n",
       "      <th>Ticket</th>\n",
       "      <th>Fare</th>\n",
       "      <th>Cabin</th>\n",
       "      <th>Embarked</th>\n",
       "    </tr>\n",
       "  </thead>\n",
       "  <tbody>\n",
       "    <tr>\n",
       "      <th>0</th>\n",
       "      <td>1</td>\n",
       "      <td>0</td>\n",
       "      <td>3</td>\n",
       "      <td>Braund, Mr. Owen Harris</td>\n",
       "      <td>male</td>\n",
       "      <td>22.0</td>\n",
       "      <td>1</td>\n",
       "      <td>0</td>\n",
       "      <td>A/5 21171</td>\n",
       "      <td>7.2500</td>\n",
       "      <td>NaN</td>\n",
       "      <td>S</td>\n",
       "    </tr>\n",
       "    <tr>\n",
       "      <th>1</th>\n",
       "      <td>2</td>\n",
       "      <td>1</td>\n",
       "      <td>1</td>\n",
       "      <td>Cumings, Mrs. John Bradley (Florence Briggs Th...</td>\n",
       "      <td>female</td>\n",
       "      <td>38.0</td>\n",
       "      <td>1</td>\n",
       "      <td>0</td>\n",
       "      <td>PC 17599</td>\n",
       "      <td>71.2833</td>\n",
       "      <td>C85</td>\n",
       "      <td>C</td>\n",
       "    </tr>\n",
       "    <tr>\n",
       "      <th>2</th>\n",
       "      <td>3</td>\n",
       "      <td>1</td>\n",
       "      <td>3</td>\n",
       "      <td>Heikkinen, Miss. Laina</td>\n",
       "      <td>female</td>\n",
       "      <td>26.0</td>\n",
       "      <td>0</td>\n",
       "      <td>0</td>\n",
       "      <td>STON/O2. 3101282</td>\n",
       "      <td>7.9250</td>\n",
       "      <td>NaN</td>\n",
       "      <td>S</td>\n",
       "    </tr>\n",
       "    <tr>\n",
       "      <th>3</th>\n",
       "      <td>4</td>\n",
       "      <td>1</td>\n",
       "      <td>1</td>\n",
       "      <td>Futrelle, Mrs. Jacques Heath (Lily May Peel)</td>\n",
       "      <td>female</td>\n",
       "      <td>35.0</td>\n",
       "      <td>1</td>\n",
       "      <td>0</td>\n",
       "      <td>113803</td>\n",
       "      <td>53.1000</td>\n",
       "      <td>C123</td>\n",
       "      <td>S</td>\n",
       "    </tr>\n",
       "    <tr>\n",
       "      <th>4</th>\n",
       "      <td>5</td>\n",
       "      <td>0</td>\n",
       "      <td>3</td>\n",
       "      <td>Allen, Mr. William Henry</td>\n",
       "      <td>male</td>\n",
       "      <td>35.0</td>\n",
       "      <td>0</td>\n",
       "      <td>0</td>\n",
       "      <td>373450</td>\n",
       "      <td>8.0500</td>\n",
       "      <td>NaN</td>\n",
       "      <td>S</td>\n",
       "    </tr>\n",
       "    <tr>\n",
       "      <th>...</th>\n",
       "      <td>...</td>\n",
       "      <td>...</td>\n",
       "      <td>...</td>\n",
       "      <td>...</td>\n",
       "      <td>...</td>\n",
       "      <td>...</td>\n",
       "      <td>...</td>\n",
       "      <td>...</td>\n",
       "      <td>...</td>\n",
       "      <td>...</td>\n",
       "      <td>...</td>\n",
       "      <td>...</td>\n",
       "    </tr>\n",
       "    <tr>\n",
       "      <th>886</th>\n",
       "      <td>887</td>\n",
       "      <td>0</td>\n",
       "      <td>2</td>\n",
       "      <td>Montvila, Rev. Juozas</td>\n",
       "      <td>male</td>\n",
       "      <td>27.0</td>\n",
       "      <td>0</td>\n",
       "      <td>0</td>\n",
       "      <td>211536</td>\n",
       "      <td>13.0000</td>\n",
       "      <td>NaN</td>\n",
       "      <td>S</td>\n",
       "    </tr>\n",
       "    <tr>\n",
       "      <th>887</th>\n",
       "      <td>888</td>\n",
       "      <td>1</td>\n",
       "      <td>1</td>\n",
       "      <td>Graham, Miss. Margaret Edith</td>\n",
       "      <td>female</td>\n",
       "      <td>19.0</td>\n",
       "      <td>0</td>\n",
       "      <td>0</td>\n",
       "      <td>112053</td>\n",
       "      <td>30.0000</td>\n",
       "      <td>B42</td>\n",
       "      <td>S</td>\n",
       "    </tr>\n",
       "    <tr>\n",
       "      <th>888</th>\n",
       "      <td>889</td>\n",
       "      <td>0</td>\n",
       "      <td>3</td>\n",
       "      <td>Johnston, Miss. Catherine Helen \"Carrie\"</td>\n",
       "      <td>female</td>\n",
       "      <td>NaN</td>\n",
       "      <td>1</td>\n",
       "      <td>2</td>\n",
       "      <td>W./C. 6607</td>\n",
       "      <td>23.4500</td>\n",
       "      <td>NaN</td>\n",
       "      <td>S</td>\n",
       "    </tr>\n",
       "    <tr>\n",
       "      <th>889</th>\n",
       "      <td>890</td>\n",
       "      <td>1</td>\n",
       "      <td>1</td>\n",
       "      <td>Behr, Mr. Karl Howell</td>\n",
       "      <td>male</td>\n",
       "      <td>26.0</td>\n",
       "      <td>0</td>\n",
       "      <td>0</td>\n",
       "      <td>111369</td>\n",
       "      <td>30.0000</td>\n",
       "      <td>C148</td>\n",
       "      <td>C</td>\n",
       "    </tr>\n",
       "    <tr>\n",
       "      <th>890</th>\n",
       "      <td>891</td>\n",
       "      <td>0</td>\n",
       "      <td>3</td>\n",
       "      <td>Dooley, Mr. Patrick</td>\n",
       "      <td>male</td>\n",
       "      <td>32.0</td>\n",
       "      <td>0</td>\n",
       "      <td>0</td>\n",
       "      <td>370376</td>\n",
       "      <td>7.7500</td>\n",
       "      <td>NaN</td>\n",
       "      <td>Q</td>\n",
       "    </tr>\n",
       "  </tbody>\n",
       "</table>\n",
       "<p>891 rows × 12 columns</p>\n",
       "</div>"
      ]
     },
     "metadata": {},
     "output_type": "display_data"
    }
   ],
   "execution_count": 2
  },
  {
   "metadata": {},
   "cell_type": "markdown",
   "source": "# Fill missing values",
   "id": "daa9f31f3bdf8d5e"
  },
  {
   "metadata": {},
   "cell_type": "code",
   "outputs": [],
   "execution_count": null,
   "source": "train_filled = train.copy()",
   "id": "95498912cd352557"
  },
  {
   "metadata": {},
   "cell_type": "markdown",
   "source": "## Age",
   "id": "612a4df89492d76c"
  },
  {
   "metadata": {
    "ExecuteTime": {
     "end_time": "2025-06-07T15:40:28.822737Z",
     "start_time": "2025-06-07T15:40:28.810267Z"
    }
   },
   "cell_type": "code",
   "source": [
    "num_missing_age = train_filled['Age'].isnull().sum()\n",
    "print(f\"BEFORE - Number of rows with missing age: {num_missing_age}\")\n",
    "\n",
    "# Filling missing age with the median age of all passengers\n",
    "median_age = train_filled['Age'].median()\n",
    "print(f\"Filling missing values with median age: {median_age}\")\n",
    "\n",
    "train_filled.fillna({'Age': median_age}, inplace=True)\n",
    "print(f\"AFTER - Number of rows with missing age: {train_filled['Age'].isnull().sum()}\")"
   ],
   "id": "2024f69f228f1783",
   "outputs": [
    {
     "name": "stdout",
     "output_type": "stream",
     "text": [
      "BEFORE - Number of rows with missing age: 177\n",
      "Filling missing values with median age: 28.0\n",
      "AFTER - Number of rows with missing age: 0\n"
     ]
    }
   ],
   "execution_count": 4
  },
  {
   "metadata": {},
   "cell_type": "markdown",
   "source": "🌟We can eventually improve the fill of missing **Age** by Pclass, gender or name component",
   "id": "bd4678696afd16fe"
  },
  {
   "metadata": {},
   "cell_type": "markdown",
   "source": "## Embarked",
   "id": "c8865d4d711c0c08"
  },
  {
   "metadata": {
    "ExecuteTime": {
     "end_time": "2025-06-07T15:57:02.302358Z",
     "start_time": "2025-06-07T15:57:02.293611Z"
    }
   },
   "cell_type": "code",
   "source": [
    "num_missing_embarked = train_filled['Embarked'].isnull().sum()\n",
    "print(f\"BEFORE - Number of rows with missing embarked: {num_missing_embarked}\")\n",
    "\n",
    "# Filling missing embarked with the most frequent value (mode) of all passengers\n",
    "mode_embarked = train_filled['Embarked'].mode()[0]\n",
    "print(f\"Filling missing values with mode embarked: {mode_embarked}\")\n",
    "\n",
    "train_filled.fillna({'Embarked': mode_embarked}, inplace=True)\n",
    "print(f\"AFTER - Number of rows with missing embarked: {train_filled['Embarked'].isnull().sum()}\")"
   ],
   "id": "ac30df38d5fc4474",
   "outputs": [
    {
     "name": "stdout",
     "output_type": "stream",
     "text": [
      "BEFORE - Number of rows with missing embarked: 2\n",
      "Filling missing values with mode embarked: S\n",
      "AFTER - Number of rows with missing embarked: 0\n"
     ]
    }
   ],
   "execution_count": 8
  },
  {
   "metadata": {},
   "cell_type": "markdown",
   "source": [
    "## Cabin\n",
    "\n",
    "The idea here is to add a column called **has_cabin** with values **1**: Has cabin number or **0**: Doesn't have cabine number"
   ],
   "id": "875577f0a4e7759a"
  },
  {
   "metadata": {
    "ExecuteTime": {
     "end_time": "2025-06-07T16:13:52.927449Z",
     "start_time": "2025-06-07T16:13:52.915041Z"
    }
   },
   "cell_type": "code",
   "source": [
    "num_missing_cabin = train_filled['Cabin'].isnull().sum()\n",
    "print(f\"BEFORE - Number of rows with missing Cabin: {num_missing_cabin}\")\n",
    "\n",
    "# Addiing a colum to put value of 1 if there is a cabin values or 0 if it isn't and we keep the original column\n",
    "train_filled['has_cabin'] = train_filled['Cabin'].apply(lambda x: 0 if pd.isnull(x) else 1)\n",
    "\n",
    "print(f\"AFTER - Number of rows with missing Cabin: {train_filled['has_cabin'].isnull().sum()}\")"
   ],
   "id": "4c440a44f56ba115",
   "outputs": [
    {
     "name": "stdout",
     "output_type": "stream",
     "text": [
      "BEFORE - Number of rows with missing Cabin: 687\n",
      "AFTER - Number of rows with missing Cabin: 0\n"
     ]
    }
   ],
   "execution_count": 11
  },
  {
   "metadata": {},
   "cell_type": "markdown",
   "source": "# Feature engineering",
   "id": "c156f6b80fe5b1f5"
  },
  {
   "metadata": {},
   "cell_type": "markdown",
   "source": [
    "# Title group\n",
    "\n",
    "The idea here is to create a categorical feature including the title of the passenger"
   ],
   "id": "b2d10ba393278485"
  },
  {
   "metadata": {
    "ExecuteTime": {
     "end_time": "2025-06-07T16:32:53.540788Z",
     "start_time": "2025-06-07T16:32:53.530475Z"
    }
   },
   "cell_type": "code",
   "source": [
    "titles = list(train_filled['Name'].str.extract(' ([A-Za-z]+)\\.', expand=False).unique())\n",
    "print(f\"List of titles appearing in Names: {titles}\")"
   ],
   "id": "cca58f01d2daefb4",
   "outputs": [
    {
     "name": "stdout",
     "output_type": "stream",
     "text": [
      "List of titles appearing in Names: ['Mr', 'Mrs', 'Miss', 'Master', 'Don', 'Rev', 'Dr', 'Mme', 'Ms', 'Major', 'Lady', 'Sir', 'Mlle', 'Col', 'Capt', 'Countess', 'Jonkheer']\n"
     ]
    }
   ],
   "execution_count": 20
  },
  {
   "metadata": {
    "ExecuteTime": {
     "end_time": "2025-06-07T16:36:53.782022Z",
     "start_time": "2025-06-07T16:36:53.771665Z"
    }
   },
   "cell_type": "code",
   "source": [
    "# Add titles for each passenger\n",
    "train_filled['title'] = train_filled['Name'].str.extract(' ([A-Za-z]+)\\.', expand=False)"
   ],
   "id": "bba04a2ecc63bcc1",
   "outputs": [],
   "execution_count": 21
  },
  {
   "metadata": {
    "ExecuteTime": {
     "end_time": "2025-06-07T16:54:13.044208Z",
     "start_time": "2025-06-07T16:54:13.024662Z"
    }
   },
   "cell_type": "code",
   "source": [
    "# Uniformizing titles across passengers to reduce diversity\n",
    "def replace_title(x):\n",
    "    title = x['title']\n",
    "    if title in ['Don', 'Major', 'Capt', 'Jonkheer', 'Rev', 'Col', 'Don', 'Sir']:\n",
    "        return 'Mr'\n",
    "    elif title in ['Countess', 'Mme', 'Lady']:\n",
    "        return 'Mrs'\n",
    "    elif title in ['Mlle', 'Ms']:\n",
    "        return 'Miss'\n",
    "    elif title == 'Dr':\n",
    "        if x['Sex'] == 'Male':\n",
    "            return 'Mr'\n",
    "        else:\n",
    "            return 'Mrs'\n",
    "    else:\n",
    "        return title\n",
    "\n",
    "train_filled['title_group'] = train_filled.apply(replace_title, axis=1)\n",
    "print(f\"List of titles groups appearing in Names: {list(train_filled['title_group'].unique())}\")\n"
   ],
   "id": "36163be9a6b9172f",
   "outputs": [
    {
     "name": "stdout",
     "output_type": "stream",
     "text": [
      "List of titles groups appearing in Names: ['Mr', 'Mrs', 'Miss', 'Master']\n"
     ]
    }
   ],
   "execution_count": 23
  },
  {
   "metadata": {},
   "cell_type": "markdown",
   "source": [
    "## Traveling alone\n",
    "\n",
    "The idea here is to create a a variable to detect whether the passenger traveled alone or with other persons like parents, spouse, etc"
   ],
   "id": "328c46952c8e0881"
  },
  {
   "metadata": {
    "ExecuteTime": {
     "end_time": "2025-06-07T17:17:37.368929Z",
     "start_time": "2025-06-07T17:17:37.344961Z"
    }
   },
   "cell_type": "code",
   "source": "train_filled['is_alone'] = train_filled.apply(lambda x: 1 if x['Parch'] + x['SibSp'] == 0 else 0, axis=1)",
   "id": "81287ec2ac0099a",
   "outputs": [],
   "execution_count": 27
  },
  {
   "metadata": {},
   "cell_type": "markdown",
   "source": [
    "b# Preprocess the data\n",
    "\n",
    "To get the data ready to train ML models"
   ],
   "id": "92efc6bd10e66103"
  },
  {
   "metadata": {
    "ExecuteTime": {
     "end_time": "2025-06-07T17:37:07.412608Z",
     "start_time": "2025-06-07T17:37:07.406908Z"
    }
   },
   "cell_type": "code",
   "source": "train_prep = train_filled.copy()",
   "id": "6792ee8b18b7dc1b",
   "outputs": [],
   "execution_count": 36
  },
  {
   "metadata": {},
   "cell_type": "markdown",
   "source": "## Drop unnecessary columns",
   "id": "1e32447ab557c1c6"
  },
  {
   "metadata": {
    "ExecuteTime": {
     "end_time": "2025-06-07T17:37:21.511739Z",
     "start_time": "2025-06-07T17:37:21.502415Z"
    }
   },
   "cell_type": "code",
   "source": [
    "# Drop columns\n",
    "train_prep.drop(['Name', 'Ticket', 'Cabin', 'title'], axis=1, inplace=True)"
   ],
   "id": "f6b9a01917661ffc",
   "outputs": [],
   "execution_count": 37
  },
  {
   "metadata": {},
   "cell_type": "markdown",
   "source": "## Apply one-hot encoding to categorical features",
   "id": "6c72c7ab55274a4b"
  },
  {
   "metadata": {
    "ExecuteTime": {
     "end_time": "2025-06-07T17:37:34.467745Z",
     "start_time": "2025-06-07T17:37:34.451327Z"
    }
   },
   "cell_type": "code",
   "source": [
    "categorical_col = ['Sex', 'Embarked', 'title_group']\n",
    "train_ml = pd.get_dummies(train_prep, columns=categorical_col, dtype='int')"
   ],
   "id": "388659460269f2c",
   "outputs": [],
   "execution_count": 38
  },
  {
   "metadata": {},
   "cell_type": "markdown",
   "source": "# Split the train dataset and save the datab",
   "id": "3ec72c230b7821a9"
  },
  {
   "metadata": {
    "ExecuteTime": {
     "end_time": "2025-06-07T17:50:01.006140Z",
     "start_time": "2025-06-07T17:50:00.983027Z"
    }
   },
   "cell_type": "code",
   "source": [
    "# Split the processed data into features dataset and predicted dataset\n",
    "X_train = train_ml.drop('Survived', axis=1)\n",
    "y_train = train_ml['Survived']\n",
    "\n",
    "# Save the dataset into a CSV file\n",
    "X_train.to_csv(os.path.join(DIR_DATASET, 'X_train.csv'), index=False)\n",
    "y_train.to_csv(os.path.join(DIR_DATASET, 'y_train.csv'), index=False)"
   ],
   "id": "c046f889db7d08a6",
   "outputs": [],
   "execution_count": 41
  }
 ],
 "metadata": {
  "kernelspec": {
   "display_name": "Python 3",
   "language": "python",
   "name": "python3"
  },
  "language_info": {
   "codemirror_mode": {
    "name": "ipython",
    "version": 2
   },
   "file_extension": ".py",
   "mimetype": "text/x-python",
   "name": "python",
   "nbconvert_exporter": "python",
   "pygments_lexer": "ipython2",
   "version": "2.7.6"
  }
 },
 "nbformat": 4,
 "nbformat_minor": 5
}
