{
 "cells": [
  {
   "cell_type": "code",
   "id": "initial_id",
   "metadata": {
    "collapsed": true,
    "ExecuteTime": {
     "end_time": "2025-07-29T19:31:52.877820Z",
     "start_time": "2025-07-29T19:31:48.222814Z"
    }
   },
   "source": [
    "import pandas as pd\n",
    "import numpy as np\n",
    "import matplotlib.pyplot as plt\n",
    "import seaborn as sns\n",
    "\n",
    "from pandasai import SmartDataframe\n",
    "from pandasai.llm.openai import OpenAI\n",
    "from dotenv import load_dotenv\n",
    "import os"
   ],
   "outputs": [],
   "execution_count": 2
  },
  {
   "metadata": {},
   "cell_type": "markdown",
   "source": "# load data",
   "id": "f6b8d77ad7baac00"
  },
  {
   "metadata": {
    "ExecuteTime": {
     "end_time": "2025-07-29T19:34:50.051850Z",
     "start_time": "2025-07-29T19:34:50.020887Z"
    }
   },
   "cell_type": "code",
   "source": [
    "DIR_DATASET = os.path.join(os.getcwd(), 'dataset')\n",
    "DIR_SUBMISSIONS = os.path.join(os.getcwd(), 'submissions')\n",
    "\n",
    "train = pd.read_csv(os.path.join(DIR_DATASET, 'train.csv'))\n",
    "test = pd.read_csv(os.path.join(DIR_DATASET, 'test.csv'))\n",
    "\n",
    "train"
   ],
   "id": "df04cfd530176b0e",
   "outputs": [
    {
     "data": {
      "text/plain": [
       "     PassengerId  Survived  Pclass  \\\n",
       "0              1         0       3   \n",
       "1              2         1       1   \n",
       "2              3         1       3   \n",
       "3              4         1       1   \n",
       "4              5         0       3   \n",
       "..           ...       ...     ...   \n",
       "886          887         0       2   \n",
       "887          888         1       1   \n",
       "888          889         0       3   \n",
       "889          890         1       1   \n",
       "890          891         0       3   \n",
       "\n",
       "                                                  Name     Sex   Age  SibSp  \\\n",
       "0                              Braund, Mr. Owen Harris    male  22.0      1   \n",
       "1    Cumings, Mrs. John Bradley (Florence Briggs Th...  female  38.0      1   \n",
       "2                               Heikkinen, Miss. Laina  female  26.0      0   \n",
       "3         Futrelle, Mrs. Jacques Heath (Lily May Peel)  female  35.0      1   \n",
       "4                             Allen, Mr. William Henry    male  35.0      0   \n",
       "..                                                 ...     ...   ...    ...   \n",
       "886                              Montvila, Rev. Juozas    male  27.0      0   \n",
       "887                       Graham, Miss. Margaret Edith  female  19.0      0   \n",
       "888           Johnston, Miss. Catherine Helen \"Carrie\"  female   NaN      1   \n",
       "889                              Behr, Mr. Karl Howell    male  26.0      0   \n",
       "890                                Dooley, Mr. Patrick    male  32.0      0   \n",
       "\n",
       "     Parch            Ticket     Fare Cabin Embarked  \n",
       "0        0         A/5 21171   7.2500   NaN        S  \n",
       "1        0          PC 17599  71.2833   C85        C  \n",
       "2        0  STON/O2. 3101282   7.9250   NaN        S  \n",
       "3        0            113803  53.1000  C123        S  \n",
       "4        0            373450   8.0500   NaN        S  \n",
       "..     ...               ...      ...   ...      ...  \n",
       "886      0            211536  13.0000   NaN        S  \n",
       "887      0            112053  30.0000   B42        S  \n",
       "888      2        W./C. 6607  23.4500   NaN        S  \n",
       "889      0            111369  30.0000  C148        C  \n",
       "890      0            370376   7.7500   NaN        Q  \n",
       "\n",
       "[891 rows x 12 columns]"
      ],
      "text/html": [
       "<div>\n",
       "<style scoped>\n",
       "    .dataframe tbody tr th:only-of-type {\n",
       "        vertical-align: middle;\n",
       "    }\n",
       "\n",
       "    .dataframe tbody tr th {\n",
       "        vertical-align: top;\n",
       "    }\n",
       "\n",
       "    .dataframe thead th {\n",
       "        text-align: right;\n",
       "    }\n",
       "</style>\n",
       "<table border=\"1\" class=\"dataframe\">\n",
       "  <thead>\n",
       "    <tr style=\"text-align: right;\">\n",
       "      <th></th>\n",
       "      <th>PassengerId</th>\n",
       "      <th>Survived</th>\n",
       "      <th>Pclass</th>\n",
       "      <th>Name</th>\n",
       "      <th>Sex</th>\n",
       "      <th>Age</th>\n",
       "      <th>SibSp</th>\n",
       "      <th>Parch</th>\n",
       "      <th>Ticket</th>\n",
       "      <th>Fare</th>\n",
       "      <th>Cabin</th>\n",
       "      <th>Embarked</th>\n",
       "    </tr>\n",
       "  </thead>\n",
       "  <tbody>\n",
       "    <tr>\n",
       "      <th>0</th>\n",
       "      <td>1</td>\n",
       "      <td>0</td>\n",
       "      <td>3</td>\n",
       "      <td>Braund, Mr. Owen Harris</td>\n",
       "      <td>male</td>\n",
       "      <td>22.0</td>\n",
       "      <td>1</td>\n",
       "      <td>0</td>\n",
       "      <td>A/5 21171</td>\n",
       "      <td>7.2500</td>\n",
       "      <td>NaN</td>\n",
       "      <td>S</td>\n",
       "    </tr>\n",
       "    <tr>\n",
       "      <th>1</th>\n",
       "      <td>2</td>\n",
       "      <td>1</td>\n",
       "      <td>1</td>\n",
       "      <td>Cumings, Mrs. John Bradley (Florence Briggs Th...</td>\n",
       "      <td>female</td>\n",
       "      <td>38.0</td>\n",
       "      <td>1</td>\n",
       "      <td>0</td>\n",
       "      <td>PC 17599</td>\n",
       "      <td>71.2833</td>\n",
       "      <td>C85</td>\n",
       "      <td>C</td>\n",
       "    </tr>\n",
       "    <tr>\n",
       "      <th>2</th>\n",
       "      <td>3</td>\n",
       "      <td>1</td>\n",
       "      <td>3</td>\n",
       "      <td>Heikkinen, Miss. Laina</td>\n",
       "      <td>female</td>\n",
       "      <td>26.0</td>\n",
       "      <td>0</td>\n",
       "      <td>0</td>\n",
       "      <td>STON/O2. 3101282</td>\n",
       "      <td>7.9250</td>\n",
       "      <td>NaN</td>\n",
       "      <td>S</td>\n",
       "    </tr>\n",
       "    <tr>\n",
       "      <th>3</th>\n",
       "      <td>4</td>\n",
       "      <td>1</td>\n",
       "      <td>1</td>\n",
       "      <td>Futrelle, Mrs. Jacques Heath (Lily May Peel)</td>\n",
       "      <td>female</td>\n",
       "      <td>35.0</td>\n",
       "      <td>1</td>\n",
       "      <td>0</td>\n",
       "      <td>113803</td>\n",
       "      <td>53.1000</td>\n",
       "      <td>C123</td>\n",
       "      <td>S</td>\n",
       "    </tr>\n",
       "    <tr>\n",
       "      <th>4</th>\n",
       "      <td>5</td>\n",
       "      <td>0</td>\n",
       "      <td>3</td>\n",
       "      <td>Allen, Mr. William Henry</td>\n",
       "      <td>male</td>\n",
       "      <td>35.0</td>\n",
       "      <td>0</td>\n",
       "      <td>0</td>\n",
       "      <td>373450</td>\n",
       "      <td>8.0500</td>\n",
       "      <td>NaN</td>\n",
       "      <td>S</td>\n",
       "    </tr>\n",
       "    <tr>\n",
       "      <th>...</th>\n",
       "      <td>...</td>\n",
       "      <td>...</td>\n",
       "      <td>...</td>\n",
       "      <td>...</td>\n",
       "      <td>...</td>\n",
       "      <td>...</td>\n",
       "      <td>...</td>\n",
       "      <td>...</td>\n",
       "      <td>...</td>\n",
       "      <td>...</td>\n",
       "      <td>...</td>\n",
       "      <td>...</td>\n",
       "    </tr>\n",
       "    <tr>\n",
       "      <th>886</th>\n",
       "      <td>887</td>\n",
       "      <td>0</td>\n",
       "      <td>2</td>\n",
       "      <td>Montvila, Rev. Juozas</td>\n",
       "      <td>male</td>\n",
       "      <td>27.0</td>\n",
       "      <td>0</td>\n",
       "      <td>0</td>\n",
       "      <td>211536</td>\n",
       "      <td>13.0000</td>\n",
       "      <td>NaN</td>\n",
       "      <td>S</td>\n",
       "    </tr>\n",
       "    <tr>\n",
       "      <th>887</th>\n",
       "      <td>888</td>\n",
       "      <td>1</td>\n",
       "      <td>1</td>\n",
       "      <td>Graham, Miss. Margaret Edith</td>\n",
       "      <td>female</td>\n",
       "      <td>19.0</td>\n",
       "      <td>0</td>\n",
       "      <td>0</td>\n",
       "      <td>112053</td>\n",
       "      <td>30.0000</td>\n",
       "      <td>B42</td>\n",
       "      <td>S</td>\n",
       "    </tr>\n",
       "    <tr>\n",
       "      <th>888</th>\n",
       "      <td>889</td>\n",
       "      <td>0</td>\n",
       "      <td>3</td>\n",
       "      <td>Johnston, Miss. Catherine Helen \"Carrie\"</td>\n",
       "      <td>female</td>\n",
       "      <td>NaN</td>\n",
       "      <td>1</td>\n",
       "      <td>2</td>\n",
       "      <td>W./C. 6607</td>\n",
       "      <td>23.4500</td>\n",
       "      <td>NaN</td>\n",
       "      <td>S</td>\n",
       "    </tr>\n",
       "    <tr>\n",
       "      <th>889</th>\n",
       "      <td>890</td>\n",
       "      <td>1</td>\n",
       "      <td>1</td>\n",
       "      <td>Behr, Mr. Karl Howell</td>\n",
       "      <td>male</td>\n",
       "      <td>26.0</td>\n",
       "      <td>0</td>\n",
       "      <td>0</td>\n",
       "      <td>111369</td>\n",
       "      <td>30.0000</td>\n",
       "      <td>C148</td>\n",
       "      <td>C</td>\n",
       "    </tr>\n",
       "    <tr>\n",
       "      <th>890</th>\n",
       "      <td>891</td>\n",
       "      <td>0</td>\n",
       "      <td>3</td>\n",
       "      <td>Dooley, Mr. Patrick</td>\n",
       "      <td>male</td>\n",
       "      <td>32.0</td>\n",
       "      <td>0</td>\n",
       "      <td>0</td>\n",
       "      <td>370376</td>\n",
       "      <td>7.7500</td>\n",
       "      <td>NaN</td>\n",
       "      <td>Q</td>\n",
       "    </tr>\n",
       "  </tbody>\n",
       "</table>\n",
       "<p>891 rows × 12 columns</p>\n",
       "</div>"
      ]
     },
     "execution_count": 5,
     "metadata": {},
     "output_type": "execute_result"
    }
   ],
   "execution_count": 5
  },
  {
   "metadata": {},
   "cell_type": "markdown",
   "source": "# Setup of the openAI environment",
   "id": "73defbfc486dc54d"
  },
  {
   "metadata": {
    "ExecuteTime": {
     "end_time": "2025-07-04T18:04:39.081334Z",
     "start_time": "2025-07-04T18:04:37.742548Z"
    }
   },
   "cell_type": "code",
   "source": [
    "# Load environment variables from .env file\n",
    "load_dotenv()\n",
    "# Access the real API key from the environment\n",
    "api_key = os.getenv(\"OPENAI_API_KEY\")\n",
    "\n",
    "# Uses the openai key to start pandasai\n",
    "llmodel = OpenAI(api_token=api_key)"
   ],
   "id": "5491e577afc7d355",
   "outputs": [],
   "execution_count": 5
  },
  {
   "metadata": {},
   "cell_type": "markdown",
   "source": "# EDA on train.csv dataset",
   "id": "bfe8560bf45a336c"
  },
  {
   "metadata": {},
   "cell_type": "markdown",
   "source": "## General overview of the training data",
   "id": "e30e11918d526152"
  },
  {
   "metadata": {
    "ExecuteTime": {
     "end_time": "2025-07-04T18:04:39.450398Z",
     "start_time": "2025-07-04T18:04:39.279068Z"
    }
   },
   "cell_type": "code",
   "source": [
    "# Load the dataset\n",
    "train_sdf = SmartDataframe(train, config={\"llm\": llmodel})"
   ],
   "id": "fc06b7ba9751aa20",
   "outputs": [],
   "execution_count": 6
  },
  {
   "metadata": {
    "ExecuteTime": {
     "end_time": "2025-07-04T18:04:39.756288Z",
     "start_time": "2025-07-04T18:04:39.741873Z"
    }
   },
   "cell_type": "code",
   "source": "train.info()",
   "id": "ea639a30a82789d3",
   "outputs": [
    {
     "name": "stdout",
     "output_type": "stream",
     "text": [
      "<class 'pandas.core.frame.DataFrame'>\n",
      "RangeIndex: 891 entries, 0 to 890\n",
      "Data columns (total 12 columns):\n",
      " #   Column       Non-Null Count  Dtype  \n",
      "---  ------       --------------  -----  \n",
      " 0   PassengerId  891 non-null    int64  \n",
      " 1   Survived     891 non-null    int64  \n",
      " 2   Pclass       891 non-null    int64  \n",
      " 3   Name         891 non-null    object \n",
      " 4   Sex          891 non-null    object \n",
      " 5   Age          714 non-null    float64\n",
      " 6   SibSp        891 non-null    int64  \n",
      " 7   Parch        891 non-null    int64  \n",
      " 8   Ticket       891 non-null    object \n",
      " 9   Fare         891 non-null    float64\n",
      " 10  Cabin        204 non-null    object \n",
      " 11  Embarked     889 non-null    object \n",
      "dtypes: float64(2), int64(5), object(5)\n",
      "memory usage: 83.7+ KB\n"
     ]
    }
   ],
   "execution_count": 7
  },
  {
   "metadata": {
    "ExecuteTime": {
     "end_time": "2025-07-04T18:04:39.918520Z",
     "start_time": "2025-07-04T18:04:39.885019Z"
    }
   },
   "cell_type": "code",
   "source": "train.describe()",
   "id": "d419c9bd510e6a7b",
   "outputs": [
    {
     "data": {
      "text/plain": [
       "       PassengerId    Survived      Pclass         Age       SibSp  \\\n",
       "count   891.000000  891.000000  891.000000  714.000000  891.000000   \n",
       "mean    446.000000    0.383838    2.308642   29.699118    0.523008   \n",
       "std     257.353842    0.486592    0.836071   14.526497    1.102743   \n",
       "min       1.000000    0.000000    1.000000    0.420000    0.000000   \n",
       "25%     223.500000    0.000000    2.000000   20.125000    0.000000   \n",
       "50%     446.000000    0.000000    3.000000   28.000000    0.000000   \n",
       "75%     668.500000    1.000000    3.000000   38.000000    1.000000   \n",
       "max     891.000000    1.000000    3.000000   80.000000    8.000000   \n",
       "\n",
       "            Parch        Fare  \n",
       "count  891.000000  891.000000  \n",
       "mean     0.381594   32.204208  \n",
       "std      0.806057   49.693429  \n",
       "min      0.000000    0.000000  \n",
       "25%      0.000000    7.910400  \n",
       "50%      0.000000   14.454200  \n",
       "75%      0.000000   31.000000  \n",
       "max      6.000000  512.329200  "
      ],
      "text/html": [
       "<div>\n",
       "<style scoped>\n",
       "    .dataframe tbody tr th:only-of-type {\n",
       "        vertical-align: middle;\n",
       "    }\n",
       "\n",
       "    .dataframe tbody tr th {\n",
       "        vertical-align: top;\n",
       "    }\n",
       "\n",
       "    .dataframe thead th {\n",
       "        text-align: right;\n",
       "    }\n",
       "</style>\n",
       "<table border=\"1\" class=\"dataframe\">\n",
       "  <thead>\n",
       "    <tr style=\"text-align: right;\">\n",
       "      <th></th>\n",
       "      <th>PassengerId</th>\n",
       "      <th>Survived</th>\n",
       "      <th>Pclass</th>\n",
       "      <th>Age</th>\n",
       "      <th>SibSp</th>\n",
       "      <th>Parch</th>\n",
       "      <th>Fare</th>\n",
       "    </tr>\n",
       "  </thead>\n",
       "  <tbody>\n",
       "    <tr>\n",
       "      <th>count</th>\n",
       "      <td>891.000000</td>\n",
       "      <td>891.000000</td>\n",
       "      <td>891.000000</td>\n",
       "      <td>714.000000</td>\n",
       "      <td>891.000000</td>\n",
       "      <td>891.000000</td>\n",
       "      <td>891.000000</td>\n",
       "    </tr>\n",
       "    <tr>\n",
       "      <th>mean</th>\n",
       "      <td>446.000000</td>\n",
       "      <td>0.383838</td>\n",
       "      <td>2.308642</td>\n",
       "      <td>29.699118</td>\n",
       "      <td>0.523008</td>\n",
       "      <td>0.381594</td>\n",
       "      <td>32.204208</td>\n",
       "    </tr>\n",
       "    <tr>\n",
       "      <th>std</th>\n",
       "      <td>257.353842</td>\n",
       "      <td>0.486592</td>\n",
       "      <td>0.836071</td>\n",
       "      <td>14.526497</td>\n",
       "      <td>1.102743</td>\n",
       "      <td>0.806057</td>\n",
       "      <td>49.693429</td>\n",
       "    </tr>\n",
       "    <tr>\n",
       "      <th>min</th>\n",
       "      <td>1.000000</td>\n",
       "      <td>0.000000</td>\n",
       "      <td>1.000000</td>\n",
       "      <td>0.420000</td>\n",
       "      <td>0.000000</td>\n",
       "      <td>0.000000</td>\n",
       "      <td>0.000000</td>\n",
       "    </tr>\n",
       "    <tr>\n",
       "      <th>25%</th>\n",
       "      <td>223.500000</td>\n",
       "      <td>0.000000</td>\n",
       "      <td>2.000000</td>\n",
       "      <td>20.125000</td>\n",
       "      <td>0.000000</td>\n",
       "      <td>0.000000</td>\n",
       "      <td>7.910400</td>\n",
       "    </tr>\n",
       "    <tr>\n",
       "      <th>50%</th>\n",
       "      <td>446.000000</td>\n",
       "      <td>0.000000</td>\n",
       "      <td>3.000000</td>\n",
       "      <td>28.000000</td>\n",
       "      <td>0.000000</td>\n",
       "      <td>0.000000</td>\n",
       "      <td>14.454200</td>\n",
       "    </tr>\n",
       "    <tr>\n",
       "      <th>75%</th>\n",
       "      <td>668.500000</td>\n",
       "      <td>1.000000</td>\n",
       "      <td>3.000000</td>\n",
       "      <td>38.000000</td>\n",
       "      <td>1.000000</td>\n",
       "      <td>0.000000</td>\n",
       "      <td>31.000000</td>\n",
       "    </tr>\n",
       "    <tr>\n",
       "      <th>max</th>\n",
       "      <td>891.000000</td>\n",
       "      <td>1.000000</td>\n",
       "      <td>3.000000</td>\n",
       "      <td>80.000000</td>\n",
       "      <td>8.000000</td>\n",
       "      <td>6.000000</td>\n",
       "      <td>512.329200</td>\n",
       "    </tr>\n",
       "  </tbody>\n",
       "</table>\n",
       "</div>"
      ]
     },
     "execution_count": 8,
     "metadata": {},
     "output_type": "execute_result"
    }
   ],
   "execution_count": 8
  },
  {
   "metadata": {},
   "cell_type": "markdown",
   "source": [
    "* 75% of the passengers didn't survived\n",
    "* Most of pasagers are in 3rd class. Less than 25% of passengers are in 1 & 2 class\n",
    "* Most of passenger are  between 20 - 38 years old\n",
    "* Most of passengers travel alone\n",
    "* Half of passangers paid 14 for their ticket and 75% of them less than 31"
   ],
   "id": "fee6c0173d14d662"
  },
  {
   "metadata": {
    "ExecuteTime": {
     "end_time": "2025-07-04T18:04:41.564330Z",
     "start_time": "2025-07-04T18:04:40.030617Z"
    }
   },
   "cell_type": "code",
   "source": [
    "# Prompt example\n",
    "train_sdf.chat(\"tell me the percentage of survived and not surviving passengers using the column 'Survived'\")"
   ],
   "id": "a8d4bc30166772fe",
   "outputs": [
    {
     "name": "stdout",
     "output_type": "stream",
     "text": [
      "{'type': 'string', 'value': 'Percentage of survived passengers: 38.38%, Percentage of not surviving passengers: 61.62%.'}\n"
     ]
    },
    {
     "data": {
      "text/plain": [
       "'Percentage of survived passengers: 38.38%, Percentage of not surviving passengers: 61.62%.'"
      ]
     },
     "execution_count": 9,
     "metadata": {},
     "output_type": "execute_result"
    }
   ],
   "execution_count": 9
  },
  {
   "metadata": {},
   "cell_type": "markdown",
   "source": "# PClass survivors",
   "id": "be1e3c325238ed42"
  },
  {
   "metadata": {
    "ExecuteTime": {
     "end_time": "2025-07-04T18:04:41.876658Z",
     "start_time": "2025-07-04T18:04:41.632139Z"
    }
   },
   "cell_type": "code",
   "source": "train_sdf.chat(\"Give me the total number of passengers by Pclass organized in descendant order of it\")",
   "id": "d573e2a0b4e17c30",
   "outputs": [
    {
     "data": {
      "text/plain": [
       "   Pclass  Total_Passengers\n",
       "0       3               491\n",
       "1       2               184\n",
       "2       1               216"
      ],
      "text/html": [
       "<div>\n",
       "<style scoped>\n",
       "    .dataframe tbody tr th:only-of-type {\n",
       "        vertical-align: middle;\n",
       "    }\n",
       "\n",
       "    .dataframe tbody tr th {\n",
       "        vertical-align: top;\n",
       "    }\n",
       "\n",
       "    .dataframe thead th {\n",
       "        text-align: right;\n",
       "    }\n",
       "</style>\n",
       "<table border=\"1\" class=\"dataframe\">\n",
       "  <thead>\n",
       "    <tr style=\"text-align: right;\">\n",
       "      <th></th>\n",
       "      <th>Pclass</th>\n",
       "      <th>Total_Passengers</th>\n",
       "    </tr>\n",
       "  </thead>\n",
       "  <tbody>\n",
       "    <tr>\n",
       "      <th>0</th>\n",
       "      <td>3</td>\n",
       "      <td>491</td>\n",
       "    </tr>\n",
       "    <tr>\n",
       "      <th>1</th>\n",
       "      <td>2</td>\n",
       "      <td>184</td>\n",
       "    </tr>\n",
       "    <tr>\n",
       "      <th>2</th>\n",
       "      <td>1</td>\n",
       "      <td>216</td>\n",
       "    </tr>\n",
       "  </tbody>\n",
       "</table>\n",
       "</div>"
      ]
     },
     "execution_count": 10,
     "metadata": {},
     "output_type": "execute_result"
    }
   ],
   "execution_count": 10
  },
  {
   "metadata": {
    "ExecuteTime": {
     "end_time": "2025-07-04T18:04:42.321214Z",
     "start_time": "2025-07-04T18:04:42.088045Z"
    }
   },
   "cell_type": "code",
   "source": "train_sdf.chat(\"Give me the of survivors (Survived column) by Pclass organized in descending order of it\")",
   "id": "772ed43522d3461a",
   "outputs": [
    {
     "data": {
      "text/plain": [
       "        Survived\n",
       "Pclass          \n",
       "3            119\n",
       "2             87\n",
       "1            136"
      ],
      "text/html": [
       "<div>\n",
       "<style scoped>\n",
       "    .dataframe tbody tr th:only-of-type {\n",
       "        vertical-align: middle;\n",
       "    }\n",
       "\n",
       "    .dataframe tbody tr th {\n",
       "        vertical-align: top;\n",
       "    }\n",
       "\n",
       "    .dataframe thead th {\n",
       "        text-align: right;\n",
       "    }\n",
       "</style>\n",
       "<table border=\"1\" class=\"dataframe\">\n",
       "  <thead>\n",
       "    <tr style=\"text-align: right;\">\n",
       "      <th></th>\n",
       "      <th>Survived</th>\n",
       "    </tr>\n",
       "    <tr>\n",
       "      <th>Pclass</th>\n",
       "      <th></th>\n",
       "    </tr>\n",
       "  </thead>\n",
       "  <tbody>\n",
       "    <tr>\n",
       "      <th>3</th>\n",
       "      <td>119</td>\n",
       "    </tr>\n",
       "    <tr>\n",
       "      <th>2</th>\n",
       "      <td>87</td>\n",
       "    </tr>\n",
       "    <tr>\n",
       "      <th>1</th>\n",
       "      <td>136</td>\n",
       "    </tr>\n",
       "  </tbody>\n",
       "</table>\n",
       "</div>"
      ]
     },
     "execution_count": 11,
     "metadata": {},
     "output_type": "execute_result"
    }
   ],
   "execution_count": 11
  },
  {
   "metadata": {
    "ExecuteTime": {
     "end_time": "2025-07-04T18:04:42.701348Z",
     "start_time": "2025-07-04T18:04:42.431856Z"
    }
   },
   "cell_type": "code",
   "source": "train_sdf.chat(\"Give me the ratio between the number of survivors by Pclass and the total of passengers by Pclass. I want the results by descending order of this ratio\")",
   "id": "50f1fa07b9d60926",
   "outputs": [
    {
     "data": {
      "text/plain": [
       "   Pclass  Survivor_Ratio\n",
       "0       1        0.629630\n",
       "1       2        0.472826\n",
       "2       3        0.242363"
      ],
      "text/html": [
       "<div>\n",
       "<style scoped>\n",
       "    .dataframe tbody tr th:only-of-type {\n",
       "        vertical-align: middle;\n",
       "    }\n",
       "\n",
       "    .dataframe tbody tr th {\n",
       "        vertical-align: top;\n",
       "    }\n",
       "\n",
       "    .dataframe thead th {\n",
       "        text-align: right;\n",
       "    }\n",
       "</style>\n",
       "<table border=\"1\" class=\"dataframe\">\n",
       "  <thead>\n",
       "    <tr style=\"text-align: right;\">\n",
       "      <th></th>\n",
       "      <th>Pclass</th>\n",
       "      <th>Survivor_Ratio</th>\n",
       "    </tr>\n",
       "  </thead>\n",
       "  <tbody>\n",
       "    <tr>\n",
       "      <th>0</th>\n",
       "      <td>1</td>\n",
       "      <td>0.629630</td>\n",
       "    </tr>\n",
       "    <tr>\n",
       "      <th>1</th>\n",
       "      <td>2</td>\n",
       "      <td>0.472826</td>\n",
       "    </tr>\n",
       "    <tr>\n",
       "      <th>2</th>\n",
       "      <td>3</td>\n",
       "      <td>0.242363</td>\n",
       "    </tr>\n",
       "  </tbody>\n",
       "</table>\n",
       "</div>"
      ]
     },
     "execution_count": 12,
     "metadata": {},
     "output_type": "execute_result"
    }
   ],
   "execution_count": 12
  },
  {
   "metadata": {},
   "cell_type": "markdown",
   "source": [
    "* Mos of passengers are in 3 class\n",
    "* 63% of survivors were in 1 class, 47% in 2 class, and 24% in 3 class\n",
    "* **Pclass** is a good predictor of passengers than survived"
   ],
   "id": "e932feb831762a7e"
  },
  {
   "metadata": {},
   "cell_type": "markdown",
   "source": "# Sex survivors",
   "id": "7cd82ef00f8068"
  },
  {
   "metadata": {
    "ExecuteTime": {
     "end_time": "2025-07-04T18:04:43.180340Z",
     "start_time": "2025-07-04T18:04:42.930590Z"
    }
   },
   "cell_type": "code",
   "source": "train_sdf.chat(\"Give me the total number of passengers by Sex organized in descendant order of it\")",
   "id": "a8ed5aabdd2dc90f",
   "outputs": [
    {
     "data": {
      "text/plain": [
       "      Sex  Total\n",
       "0    male    577\n",
       "1  female    314"
      ],
      "text/html": [
       "<div>\n",
       "<style scoped>\n",
       "    .dataframe tbody tr th:only-of-type {\n",
       "        vertical-align: middle;\n",
       "    }\n",
       "\n",
       "    .dataframe tbody tr th {\n",
       "        vertical-align: top;\n",
       "    }\n",
       "\n",
       "    .dataframe thead th {\n",
       "        text-align: right;\n",
       "    }\n",
       "</style>\n",
       "<table border=\"1\" class=\"dataframe\">\n",
       "  <thead>\n",
       "    <tr style=\"text-align: right;\">\n",
       "      <th></th>\n",
       "      <th>Sex</th>\n",
       "      <th>Total</th>\n",
       "    </tr>\n",
       "  </thead>\n",
       "  <tbody>\n",
       "    <tr>\n",
       "      <th>0</th>\n",
       "      <td>male</td>\n",
       "      <td>577</td>\n",
       "    </tr>\n",
       "    <tr>\n",
       "      <th>1</th>\n",
       "      <td>female</td>\n",
       "      <td>314</td>\n",
       "    </tr>\n",
       "  </tbody>\n",
       "</table>\n",
       "</div>"
      ]
     },
     "execution_count": 13,
     "metadata": {},
     "output_type": "execute_result"
    }
   ],
   "execution_count": 13
  },
  {
   "metadata": {
    "ExecuteTime": {
     "end_time": "2025-07-04T18:04:43.841228Z",
     "start_time": "2025-07-04T18:04:43.425881Z"
    }
   },
   "cell_type": "code",
   "source": "train_sdf.chat(\"Give me the number of survivors by Sex organized in descending order of it\")",
   "id": "857558ca41ed0148",
   "outputs": [
    {
     "data": {
      "text/plain": [
       "      Sex  Number of Survivors\n",
       "0  female                  233\n",
       "1    male                  109"
      ],
      "text/html": [
       "<div>\n",
       "<style scoped>\n",
       "    .dataframe tbody tr th:only-of-type {\n",
       "        vertical-align: middle;\n",
       "    }\n",
       "\n",
       "    .dataframe tbody tr th {\n",
       "        vertical-align: top;\n",
       "    }\n",
       "\n",
       "    .dataframe thead th {\n",
       "        text-align: right;\n",
       "    }\n",
       "</style>\n",
       "<table border=\"1\" class=\"dataframe\">\n",
       "  <thead>\n",
       "    <tr style=\"text-align: right;\">\n",
       "      <th></th>\n",
       "      <th>Sex</th>\n",
       "      <th>Number of Survivors</th>\n",
       "    </tr>\n",
       "  </thead>\n",
       "  <tbody>\n",
       "    <tr>\n",
       "      <th>0</th>\n",
       "      <td>female</td>\n",
       "      <td>233</td>\n",
       "    </tr>\n",
       "    <tr>\n",
       "      <th>1</th>\n",
       "      <td>male</td>\n",
       "      <td>109</td>\n",
       "    </tr>\n",
       "  </tbody>\n",
       "</table>\n",
       "</div>"
      ]
     },
     "execution_count": 14,
     "metadata": {},
     "output_type": "execute_result"
    }
   ],
   "execution_count": 14
  },
  {
   "metadata": {
    "ExecuteTime": {
     "end_time": "2025-07-04T18:04:44.393649Z",
     "start_time": "2025-07-04T18:04:44.114008Z"
    }
   },
   "cell_type": "code",
   "source": "train_sdf.chat(\"Give me the survivors rate by Sex organized in descending order of it\")",
   "id": "42e6eed857d28425",
   "outputs": [
    {
     "data": {
      "text/plain": [
       "      Sex  Survivor Rate\n",
       "0  female       0.742038\n",
       "1    male       0.188908"
      ],
      "text/html": [
       "<div>\n",
       "<style scoped>\n",
       "    .dataframe tbody tr th:only-of-type {\n",
       "        vertical-align: middle;\n",
       "    }\n",
       "\n",
       "    .dataframe tbody tr th {\n",
       "        vertical-align: top;\n",
       "    }\n",
       "\n",
       "    .dataframe thead th {\n",
       "        text-align: right;\n",
       "    }\n",
       "</style>\n",
       "<table border=\"1\" class=\"dataframe\">\n",
       "  <thead>\n",
       "    <tr style=\"text-align: right;\">\n",
       "      <th></th>\n",
       "      <th>Sex</th>\n",
       "      <th>Survivor Rate</th>\n",
       "    </tr>\n",
       "  </thead>\n",
       "  <tbody>\n",
       "    <tr>\n",
       "      <th>0</th>\n",
       "      <td>female</td>\n",
       "      <td>0.742038</td>\n",
       "    </tr>\n",
       "    <tr>\n",
       "      <th>1</th>\n",
       "      <td>male</td>\n",
       "      <td>0.188908</td>\n",
       "    </tr>\n",
       "  </tbody>\n",
       "</table>\n",
       "</div>"
      ]
     },
     "execution_count": 15,
     "metadata": {},
     "output_type": "execute_result"
    }
   ],
   "execution_count": 15
  },
  {
   "metadata": {},
   "cell_type": "markdown",
   "source": [
    "* There were more male passengers than female passengers\n",
    "* 74% of female passengers survived and only 19% of males\n",
    "* **Sex** is a good surviving predictor"
   ],
   "id": "d8199b1786b132d"
  },
  {
   "metadata": {},
   "cell_type": "markdown",
   "source": "# Age survivors",
   "id": "d545d6867bcd5105"
  },
  {
   "metadata": {
    "ExecuteTime": {
     "end_time": "2025-07-04T18:04:45.389552Z",
     "start_time": "2025-07-04T18:04:44.640214Z"
    }
   },
   "cell_type": "code",
   "source": "train_sdf.chat(\"Plot a histogram of passengers by age\")",
   "id": "4f62cf168f1e2073",
   "outputs": [
    {
     "data": {
      "text/plain": [
       "'D:/Dropbox/Programming/Python/machine_learning_tutorials/learning_ml/titanic_survivors_prediction/exports/charts/temp_chart.png'"
      ]
     },
     "execution_count": 16,
     "metadata": {},
     "output_type": "execute_result"
    }
   ],
   "execution_count": 16
  },
  {
   "metadata": {
    "ExecuteTime": {
     "end_time": "2025-07-04T18:04:46.239363Z",
     "start_time": "2025-07-04T18:04:45.609350Z"
    }
   },
   "cell_type": "code",
   "source": "train_sdf.chat(\"Plot a histogram of surviving passengers by age\")",
   "id": "8f3b132ab4ecd2be",
   "outputs": [
    {
     "data": {
      "text/plain": [
       "'D:/Dropbox/Programming/Python/machine_learning_tutorials/learning_ml/titanic_survivors_prediction/exports/charts/temp_chart.png'"
      ]
     },
     "execution_count": 17,
     "metadata": {},
     "output_type": "execute_result"
    }
   ],
   "execution_count": 17
  },
  {
   "metadata": {
    "ExecuteTime": {
     "end_time": "2025-07-04T18:04:47.037545Z",
     "start_time": "2025-07-04T18:04:46.398341Z"
    }
   },
   "cell_type": "code",
   "source": "train_sdf.chat(\"Plot an histogram of survivors by Age for men (Sex = male)\")",
   "id": "29015fdd766fbf2a",
   "outputs": [
    {
     "data": {
      "text/plain": [
       "'D:/Dropbox/Programming/Python/machine_learning_tutorials/learning_ml/titanic_survivors_prediction/exports/charts/temp_chart.png'"
      ]
     },
     "execution_count": 18,
     "metadata": {},
     "output_type": "execute_result"
    }
   ],
   "execution_count": 18
  },
  {
   "metadata": {
    "ExecuteTime": {
     "end_time": "2025-07-04T18:04:47.767819Z",
     "start_time": "2025-07-04T18:04:47.095942Z"
    }
   },
   "cell_type": "code",
   "source": "train_sdf.chat(\"Plot an histogram of survivors by Age for men (Sex = female)\")",
   "id": "a9180959b051b418",
   "outputs": [
    {
     "data": {
      "text/plain": [
       "'D:/Dropbox/Programming/Python/machine_learning_tutorials/learning_ml/titanic_survivors_prediction/exports/charts/temp_chart.png'"
      ]
     },
     "execution_count": 19,
     "metadata": {},
     "output_type": "execute_result"
    }
   ],
   "execution_count": 19
  },
  {
   "metadata": {
    "ExecuteTime": {
     "end_time": "2025-07-04T18:04:47.847767Z",
     "start_time": "2025-07-04T18:04:47.815072Z"
    }
   },
   "cell_type": "code",
   "source": [
    "# Create age beans\n",
    "train_age = train.copy()\n",
    "\n",
    "train_age['age_bin'] = pd.cut(train['Age'], bins=range(0, 81, 10), include_lowest=True)\n",
    "train_age"
   ],
   "id": "486f3841089480bd",
   "outputs": [
    {
     "data": {
      "text/plain": [
       "     PassengerId  Survived  Pclass  \\\n",
       "0              1         0       3   \n",
       "1              2         1       1   \n",
       "2              3         1       3   \n",
       "3              4         1       1   \n",
       "4              5         0       3   \n",
       "..           ...       ...     ...   \n",
       "886          887         0       2   \n",
       "887          888         1       1   \n",
       "888          889         0       3   \n",
       "889          890         1       1   \n",
       "890          891         0       3   \n",
       "\n",
       "                                                  Name     Sex   Age  SibSp  \\\n",
       "0                              Braund, Mr. Owen Harris    male  22.0      1   \n",
       "1    Cumings, Mrs. John Bradley (Florence Briggs Th...  female  38.0      1   \n",
       "2                               Heikkinen, Miss. Laina  female  26.0      0   \n",
       "3         Futrelle, Mrs. Jacques Heath (Lily May Peel)  female  35.0      1   \n",
       "4                             Allen, Mr. William Henry    male  35.0      0   \n",
       "..                                                 ...     ...   ...    ...   \n",
       "886                              Montvila, Rev. Juozas    male  27.0      0   \n",
       "887                       Graham, Miss. Margaret Edith  female  19.0      0   \n",
       "888           Johnston, Miss. Catherine Helen \"Carrie\"  female   NaN      1   \n",
       "889                              Behr, Mr. Karl Howell    male  26.0      0   \n",
       "890                                Dooley, Mr. Patrick    male  32.0      0   \n",
       "\n",
       "     Parch            Ticket     Fare Cabin Embarked       age_bin  \n",
       "0        0         A/5 21171   7.2500   NaN        S  (20.0, 30.0]  \n",
       "1        0          PC 17599  71.2833   C85        C  (30.0, 40.0]  \n",
       "2        0  STON/O2. 3101282   7.9250   NaN        S  (20.0, 30.0]  \n",
       "3        0            113803  53.1000  C123        S  (30.0, 40.0]  \n",
       "4        0            373450   8.0500   NaN        S  (30.0, 40.0]  \n",
       "..     ...               ...      ...   ...      ...           ...  \n",
       "886      0            211536  13.0000   NaN        S  (20.0, 30.0]  \n",
       "887      0            112053  30.0000   B42        S  (10.0, 20.0]  \n",
       "888      2        W./C. 6607  23.4500   NaN        S           NaN  \n",
       "889      0            111369  30.0000  C148        C  (20.0, 30.0]  \n",
       "890      0            370376   7.7500   NaN        Q  (30.0, 40.0]  \n",
       "\n",
       "[891 rows x 13 columns]"
      ],
      "text/html": [
       "<div>\n",
       "<style scoped>\n",
       "    .dataframe tbody tr th:only-of-type {\n",
       "        vertical-align: middle;\n",
       "    }\n",
       "\n",
       "    .dataframe tbody tr th {\n",
       "        vertical-align: top;\n",
       "    }\n",
       "\n",
       "    .dataframe thead th {\n",
       "        text-align: right;\n",
       "    }\n",
       "</style>\n",
       "<table border=\"1\" class=\"dataframe\">\n",
       "  <thead>\n",
       "    <tr style=\"text-align: right;\">\n",
       "      <th></th>\n",
       "      <th>PassengerId</th>\n",
       "      <th>Survived</th>\n",
       "      <th>Pclass</th>\n",
       "      <th>Name</th>\n",
       "      <th>Sex</th>\n",
       "      <th>Age</th>\n",
       "      <th>SibSp</th>\n",
       "      <th>Parch</th>\n",
       "      <th>Ticket</th>\n",
       "      <th>Fare</th>\n",
       "      <th>Cabin</th>\n",
       "      <th>Embarked</th>\n",
       "      <th>age_bin</th>\n",
       "    </tr>\n",
       "  </thead>\n",
       "  <tbody>\n",
       "    <tr>\n",
       "      <th>0</th>\n",
       "      <td>1</td>\n",
       "      <td>0</td>\n",
       "      <td>3</td>\n",
       "      <td>Braund, Mr. Owen Harris</td>\n",
       "      <td>male</td>\n",
       "      <td>22.0</td>\n",
       "      <td>1</td>\n",
       "      <td>0</td>\n",
       "      <td>A/5 21171</td>\n",
       "      <td>7.2500</td>\n",
       "      <td>NaN</td>\n",
       "      <td>S</td>\n",
       "      <td>(20.0, 30.0]</td>\n",
       "    </tr>\n",
       "    <tr>\n",
       "      <th>1</th>\n",
       "      <td>2</td>\n",
       "      <td>1</td>\n",
       "      <td>1</td>\n",
       "      <td>Cumings, Mrs. John Bradley (Florence Briggs Th...</td>\n",
       "      <td>female</td>\n",
       "      <td>38.0</td>\n",
       "      <td>1</td>\n",
       "      <td>0</td>\n",
       "      <td>PC 17599</td>\n",
       "      <td>71.2833</td>\n",
       "      <td>C85</td>\n",
       "      <td>C</td>\n",
       "      <td>(30.0, 40.0]</td>\n",
       "    </tr>\n",
       "    <tr>\n",
       "      <th>2</th>\n",
       "      <td>3</td>\n",
       "      <td>1</td>\n",
       "      <td>3</td>\n",
       "      <td>Heikkinen, Miss. Laina</td>\n",
       "      <td>female</td>\n",
       "      <td>26.0</td>\n",
       "      <td>0</td>\n",
       "      <td>0</td>\n",
       "      <td>STON/O2. 3101282</td>\n",
       "      <td>7.9250</td>\n",
       "      <td>NaN</td>\n",
       "      <td>S</td>\n",
       "      <td>(20.0, 30.0]</td>\n",
       "    </tr>\n",
       "    <tr>\n",
       "      <th>3</th>\n",
       "      <td>4</td>\n",
       "      <td>1</td>\n",
       "      <td>1</td>\n",
       "      <td>Futrelle, Mrs. Jacques Heath (Lily May Peel)</td>\n",
       "      <td>female</td>\n",
       "      <td>35.0</td>\n",
       "      <td>1</td>\n",
       "      <td>0</td>\n",
       "      <td>113803</td>\n",
       "      <td>53.1000</td>\n",
       "      <td>C123</td>\n",
       "      <td>S</td>\n",
       "      <td>(30.0, 40.0]</td>\n",
       "    </tr>\n",
       "    <tr>\n",
       "      <th>4</th>\n",
       "      <td>5</td>\n",
       "      <td>0</td>\n",
       "      <td>3</td>\n",
       "      <td>Allen, Mr. William Henry</td>\n",
       "      <td>male</td>\n",
       "      <td>35.0</td>\n",
       "      <td>0</td>\n",
       "      <td>0</td>\n",
       "      <td>373450</td>\n",
       "      <td>8.0500</td>\n",
       "      <td>NaN</td>\n",
       "      <td>S</td>\n",
       "      <td>(30.0, 40.0]</td>\n",
       "    </tr>\n",
       "    <tr>\n",
       "      <th>...</th>\n",
       "      <td>...</td>\n",
       "      <td>...</td>\n",
       "      <td>...</td>\n",
       "      <td>...</td>\n",
       "      <td>...</td>\n",
       "      <td>...</td>\n",
       "      <td>...</td>\n",
       "      <td>...</td>\n",
       "      <td>...</td>\n",
       "      <td>...</td>\n",
       "      <td>...</td>\n",
       "      <td>...</td>\n",
       "      <td>...</td>\n",
       "    </tr>\n",
       "    <tr>\n",
       "      <th>886</th>\n",
       "      <td>887</td>\n",
       "      <td>0</td>\n",
       "      <td>2</td>\n",
       "      <td>Montvila, Rev. Juozas</td>\n",
       "      <td>male</td>\n",
       "      <td>27.0</td>\n",
       "      <td>0</td>\n",
       "      <td>0</td>\n",
       "      <td>211536</td>\n",
       "      <td>13.0000</td>\n",
       "      <td>NaN</td>\n",
       "      <td>S</td>\n",
       "      <td>(20.0, 30.0]</td>\n",
       "    </tr>\n",
       "    <tr>\n",
       "      <th>887</th>\n",
       "      <td>888</td>\n",
       "      <td>1</td>\n",
       "      <td>1</td>\n",
       "      <td>Graham, Miss. Margaret Edith</td>\n",
       "      <td>female</td>\n",
       "      <td>19.0</td>\n",
       "      <td>0</td>\n",
       "      <td>0</td>\n",
       "      <td>112053</td>\n",
       "      <td>30.0000</td>\n",
       "      <td>B42</td>\n",
       "      <td>S</td>\n",
       "      <td>(10.0, 20.0]</td>\n",
       "    </tr>\n",
       "    <tr>\n",
       "      <th>888</th>\n",
       "      <td>889</td>\n",
       "      <td>0</td>\n",
       "      <td>3</td>\n",
       "      <td>Johnston, Miss. Catherine Helen \"Carrie\"</td>\n",
       "      <td>female</td>\n",
       "      <td>NaN</td>\n",
       "      <td>1</td>\n",
       "      <td>2</td>\n",
       "      <td>W./C. 6607</td>\n",
       "      <td>23.4500</td>\n",
       "      <td>NaN</td>\n",
       "      <td>S</td>\n",
       "      <td>NaN</td>\n",
       "    </tr>\n",
       "    <tr>\n",
       "      <th>889</th>\n",
       "      <td>890</td>\n",
       "      <td>1</td>\n",
       "      <td>1</td>\n",
       "      <td>Behr, Mr. Karl Howell</td>\n",
       "      <td>male</td>\n",
       "      <td>26.0</td>\n",
       "      <td>0</td>\n",
       "      <td>0</td>\n",
       "      <td>111369</td>\n",
       "      <td>30.0000</td>\n",
       "      <td>C148</td>\n",
       "      <td>C</td>\n",
       "      <td>(20.0, 30.0]</td>\n",
       "    </tr>\n",
       "    <tr>\n",
       "      <th>890</th>\n",
       "      <td>891</td>\n",
       "      <td>0</td>\n",
       "      <td>3</td>\n",
       "      <td>Dooley, Mr. Patrick</td>\n",
       "      <td>male</td>\n",
       "      <td>32.0</td>\n",
       "      <td>0</td>\n",
       "      <td>0</td>\n",
       "      <td>370376</td>\n",
       "      <td>7.7500</td>\n",
       "      <td>NaN</td>\n",
       "      <td>Q</td>\n",
       "      <td>(30.0, 40.0]</td>\n",
       "    </tr>\n",
       "  </tbody>\n",
       "</table>\n",
       "<p>891 rows × 13 columns</p>\n",
       "</div>"
      ]
     },
     "execution_count": 20,
     "metadata": {},
     "output_type": "execute_result"
    }
   ],
   "execution_count": 20
  },
  {
   "metadata": {
    "ExecuteTime": {
     "end_time": "2025-07-04T18:04:48.200411Z",
     "start_time": "2025-07-04T18:04:48.178836Z"
    }
   },
   "cell_type": "code",
   "source": [
    "survivors_age = train_age.groupby('age_bin')['Survived'].agg(['sum', 'count'])\n",
    "survivors_age['survival_rate'] = round(survivors_age['sum'] *100 / survivors_age['count'], 2)\n",
    "survivors_age"
   ],
   "id": "6a2eef132c188137",
   "outputs": [
    {
     "name": "stderr",
     "output_type": "stream",
     "text": [
      "C:\\Users\\carlo\\AppData\\Local\\Temp\\ipykernel_32140\\4108385668.py:1: FutureWarning: The default of observed=False is deprecated and will be changed to True in a future version of pandas. Pass observed=False to retain current behavior or observed=True to adopt the future default and silence this warning.\n",
      "  survivors_age = train_age.groupby('age_bin')['Survived'].agg(['sum', 'count'])\n"
     ]
    },
    {
     "data": {
      "text/plain": [
       "                sum  count  survival_rate\n",
       "age_bin                                  \n",
       "(-0.001, 10.0]   38     64          59.38\n",
       "(10.0, 20.0]     44    115          38.26\n",
       "(20.0, 30.0]     84    230          36.52\n",
       "(30.0, 40.0]     69    155          44.52\n",
       "(40.0, 50.0]     33     86          38.37\n",
       "(50.0, 60.0]     17     42          40.48\n",
       "(60.0, 70.0]      4     17          23.53\n",
       "(70.0, 80.0]      1      5          20.00"
      ],
      "text/html": [
       "<div>\n",
       "<style scoped>\n",
       "    .dataframe tbody tr th:only-of-type {\n",
       "        vertical-align: middle;\n",
       "    }\n",
       "\n",
       "    .dataframe tbody tr th {\n",
       "        vertical-align: top;\n",
       "    }\n",
       "\n",
       "    .dataframe thead th {\n",
       "        text-align: right;\n",
       "    }\n",
       "</style>\n",
       "<table border=\"1\" class=\"dataframe\">\n",
       "  <thead>\n",
       "    <tr style=\"text-align: right;\">\n",
       "      <th></th>\n",
       "      <th>sum</th>\n",
       "      <th>count</th>\n",
       "      <th>survival_rate</th>\n",
       "    </tr>\n",
       "    <tr>\n",
       "      <th>age_bin</th>\n",
       "      <th></th>\n",
       "      <th></th>\n",
       "      <th></th>\n",
       "    </tr>\n",
       "  </thead>\n",
       "  <tbody>\n",
       "    <tr>\n",
       "      <th>(-0.001, 10.0]</th>\n",
       "      <td>38</td>\n",
       "      <td>64</td>\n",
       "      <td>59.38</td>\n",
       "    </tr>\n",
       "    <tr>\n",
       "      <th>(10.0, 20.0]</th>\n",
       "      <td>44</td>\n",
       "      <td>115</td>\n",
       "      <td>38.26</td>\n",
       "    </tr>\n",
       "    <tr>\n",
       "      <th>(20.0, 30.0]</th>\n",
       "      <td>84</td>\n",
       "      <td>230</td>\n",
       "      <td>36.52</td>\n",
       "    </tr>\n",
       "    <tr>\n",
       "      <th>(30.0, 40.0]</th>\n",
       "      <td>69</td>\n",
       "      <td>155</td>\n",
       "      <td>44.52</td>\n",
       "    </tr>\n",
       "    <tr>\n",
       "      <th>(40.0, 50.0]</th>\n",
       "      <td>33</td>\n",
       "      <td>86</td>\n",
       "      <td>38.37</td>\n",
       "    </tr>\n",
       "    <tr>\n",
       "      <th>(50.0, 60.0]</th>\n",
       "      <td>17</td>\n",
       "      <td>42</td>\n",
       "      <td>40.48</td>\n",
       "    </tr>\n",
       "    <tr>\n",
       "      <th>(60.0, 70.0]</th>\n",
       "      <td>4</td>\n",
       "      <td>17</td>\n",
       "      <td>23.53</td>\n",
       "    </tr>\n",
       "    <tr>\n",
       "      <th>(70.0, 80.0]</th>\n",
       "      <td>1</td>\n",
       "      <td>5</td>\n",
       "      <td>20.00</td>\n",
       "    </tr>\n",
       "  </tbody>\n",
       "</table>\n",
       "</div>"
      ]
     },
     "execution_count": 21,
     "metadata": {},
     "output_type": "execute_result"
    }
   ],
   "execution_count": 21
  },
  {
   "metadata": {},
   "cell_type": "markdown",
   "source": [
    "* Child survived more than other passengers independently of their sex (below 10 years old)\n",
    "* Old people (60+) didn't survived\n",
    "* TODO: Create a variable to detect child, regular, and old people (60+)\n",
    "* **Age** might be an interesting variable but not certain about it but transforming this variable into passengers groups: child, regular, and old can increase the its prediction power"
   ],
   "id": "f372d0052280b64d"
  },
  {
   "metadata": {},
   "cell_type": "markdown",
   "source": "# SibSp survivors: Spouse, husband, brother, sister, stepbrother, stepsister",
   "id": "cfa5a7ec8b3c932f"
  },
  {
   "metadata": {
    "ExecuteTime": {
     "end_time": "2025-07-04T18:04:48.715737Z",
     "start_time": "2025-07-04T18:04:48.442936Z"
    }
   },
   "cell_type": "code",
   "source": "train_sdf.chat(\"Count the number of passenger with SubSp. Order them by descending order of it\")",
   "id": "5062c713bdf893ed",
   "outputs": [
    {
     "data": {
      "text/plain": [
       "       count\n",
       "SibSp       \n",
       "8          7\n",
       "5          5\n",
       "4         18\n",
       "3         16\n",
       "2         28\n",
       "1        209\n",
       "0        608"
      ],
      "text/html": [
       "<div>\n",
       "<style scoped>\n",
       "    .dataframe tbody tr th:only-of-type {\n",
       "        vertical-align: middle;\n",
       "    }\n",
       "\n",
       "    .dataframe tbody tr th {\n",
       "        vertical-align: top;\n",
       "    }\n",
       "\n",
       "    .dataframe thead th {\n",
       "        text-align: right;\n",
       "    }\n",
       "</style>\n",
       "<table border=\"1\" class=\"dataframe\">\n",
       "  <thead>\n",
       "    <tr style=\"text-align: right;\">\n",
       "      <th></th>\n",
       "      <th>count</th>\n",
       "    </tr>\n",
       "    <tr>\n",
       "      <th>SibSp</th>\n",
       "      <th></th>\n",
       "    </tr>\n",
       "  </thead>\n",
       "  <tbody>\n",
       "    <tr>\n",
       "      <th>8</th>\n",
       "      <td>7</td>\n",
       "    </tr>\n",
       "    <tr>\n",
       "      <th>5</th>\n",
       "      <td>5</td>\n",
       "    </tr>\n",
       "    <tr>\n",
       "      <th>4</th>\n",
       "      <td>18</td>\n",
       "    </tr>\n",
       "    <tr>\n",
       "      <th>3</th>\n",
       "      <td>16</td>\n",
       "    </tr>\n",
       "    <tr>\n",
       "      <th>2</th>\n",
       "      <td>28</td>\n",
       "    </tr>\n",
       "    <tr>\n",
       "      <th>1</th>\n",
       "      <td>209</td>\n",
       "    </tr>\n",
       "    <tr>\n",
       "      <th>0</th>\n",
       "      <td>608</td>\n",
       "    </tr>\n",
       "  </tbody>\n",
       "</table>\n",
       "</div>"
      ]
     },
     "execution_count": 22,
     "metadata": {},
     "output_type": "execute_result"
    }
   ],
   "execution_count": 22
  },
  {
   "metadata": {
    "ExecuteTime": {
     "end_time": "2025-07-04T18:04:49.008228Z",
     "start_time": "2025-07-04T18:04:48.994674Z"
    }
   },
   "cell_type": "code",
   "source": [
    "# Count survivors by SibSp\n",
    "survivors_sibsp = train.groupby('SibSp')['Survived'].agg(['count', 'sum'])\n",
    "survivors_sibsp.columns = ['Total_Passengers', 'Survivors']\n",
    "\n",
    "# Calculate survival rate\n",
    "survivors_sibsp['Survival_Rate'] = survivors_sibsp['Survivors'] / survivors_sibsp['Total_Passengers']\n",
    "\n",
    "# Sort by number of survivors in descending order\n",
    "survivors_sibsp_sorted = survivors_sibsp.sort_values('Survivors', ascending=False)\n",
    "\n",
    "# Format survival rate as percentage\n",
    "survivors_sibsp_sorted['Survival_Rate'] = survivors_sibsp_sorted['Survival_Rate'].map('{:.1%}'.format)\n",
    "\n",
    "print(\"Survival Statistics by Number of Siblings/Spouses (SibSp):\")\n",
    "print(survivors_sibsp_sorted)\n"
   ],
   "id": "af1187daa6b310b7",
   "outputs": [
    {
     "name": "stdout",
     "output_type": "stream",
     "text": [
      "Survival Statistics by Number of Siblings/Spouses (SibSp):\n",
      "       Total_Passengers  Survivors Survival_Rate\n",
      "SibSp                                           \n",
      "0                   608        210         34.5%\n",
      "1                   209        112         53.6%\n",
      "2                    28         13         46.4%\n",
      "3                    16          4         25.0%\n",
      "4                    18          3         16.7%\n",
      "5                     5          0          0.0%\n",
      "8                     7          0          0.0%\n"
     ]
    }
   ],
   "execution_count": 23
  },
  {
   "metadata": {},
   "cell_type": "markdown",
   "source": "* 🤔Most passengers traveled with their spouse or with their spouse and their brother/sister -> Need to create a synthetic variable to distinguish them",
   "id": "12c12eb85f0ee8ac"
  },
  {
   "metadata": {},
   "cell_type": "markdown",
   "source": "# Parch survivors: mother, father, daughter, son, stepdaughter, stepson",
   "id": "54ba41511a3b9c71"
  },
  {
   "metadata": {
    "ExecuteTime": {
     "end_time": "2025-07-04T18:04:49.347338Z",
     "start_time": "2025-07-04T18:04:49.332489Z"
    }
   },
   "cell_type": "code",
   "source": [
    "# Count survivors by SibSp\n",
    "survivors_parch = train.groupby('Parch')['Survived'].agg(['count', 'sum'])\n",
    "survivors_parch.columns = ['Total_Passengers', 'Survivors']\n",
    "\n",
    "# Calculate survival rate\n",
    "survivors_parch['Survival_Rate'] = survivors_parch['Survivors'] / survivors_parch['Total_Passengers']\n",
    "\n",
    "# Sort by number of survivors in descending order\n",
    "survivors_parch_sorted = survivors_parch.sort_values('Survivors', ascending=False)\n",
    "\n",
    "# Format survival rate as percentage\n",
    "survivors_parch_sorted['Survival_Rate'] = survivors_parch_sorted['Survival_Rate'].map('{:.1%}'.format)\n",
    "\n",
    "print(\"Survival Statistics by Number of Siblings/Spouses (Parch):\")\n",
    "print(survivors_parch_sorted)\n"
   ],
   "id": "4c073fa2d3ff7c42",
   "outputs": [
    {
     "name": "stdout",
     "output_type": "stream",
     "text": [
      "Survival Statistics by Number of Siblings/Spouses (Parch):\n",
      "       Total_Passengers  Survivors Survival_Rate\n",
      "Parch                                           \n",
      "0                   678        233         34.4%\n",
      "1                   118         65         55.1%\n",
      "2                    80         40         50.0%\n",
      "3                     5          3         60.0%\n",
      "5                     5          1         20.0%\n",
      "4                     4          0          0.0%\n",
      "6                     1          0          0.0%\n"
     ]
    }
   ],
   "execution_count": 24
  },
  {
   "metadata": {},
   "cell_type": "markdown",
   "source": [
    "* 🤔 Most children traveled with one or both parents (Parch = 1, 2)\n",
    "* 🤔Most parents traveling with their up to 3 children (Parch = 3)\n",
    "* Most survivors are people traveling with 1 or 2 parents\n",
    "\n",
    "-> Need to crate a synthetic variable to distinguish them"
   ],
   "id": "dfc2fcfdb3145ec6"
  },
  {
   "metadata": {},
   "cell_type": "markdown",
   "source": "# Ticket survivors",
   "id": "ef616cf7498fc211"
  },
  {
   "metadata": {
    "ExecuteTime": {
     "end_time": "2025-07-04T18:04:49.598893Z",
     "start_time": "2025-07-04T18:04:49.579372Z"
    }
   },
   "cell_type": "code",
   "source": [
    "# Count survivign passengers by Ticket\n",
    "ticket_survivors = train.groupby('Ticket')['Survived'].agg(['count', 'sum'])\n",
    "ticket_survivors.columns = ['Total_passengers', 'Survivors']\n",
    "\n",
    "# Calculate survival rate\n",
    "ticket_survivors['Survival_Rate'] = ticket_survivors['Survivors'] / ticket_survivors['Total_passengers']\n",
    "ticket_survivors  = ticket_survivors.sort_values(by=['Survival_Rate'], ascending=False)\n",
    "\n",
    "# Format survival rate as percentage\n",
    "ticket_survivors['Survival_Rate'] = ticket_survivors['Survival_Rate'].map('{:.1%}'.format)\n",
    "\n",
    "\n",
    "\n",
    "print(\"Survival Statistics by Ticket:\")\n",
    "ticket_survivors"
   ],
   "id": "398c326522f2b8b5",
   "outputs": [
    {
     "name": "stdout",
     "output_type": "stream",
     "text": [
      "Survival Statistics by Ticket:\n"
     ]
    },
    {
     "data": {
      "text/plain": [
       "        Total_passengers  Survivors Survival_Rate\n",
       "Ticket                                           \n",
       "110152                 3          3        100.0%\n",
       "26360                  2          2        100.0%\n",
       "386525                 1          1        100.0%\n",
       "382651                 1          1        100.0%\n",
       "244373                 1          1        100.0%\n",
       "...                  ...        ...           ...\n",
       "349246                 1          0          0.0%\n",
       "349245                 1          0          0.0%\n",
       "2669                   1          0          0.0%\n",
       "349243                 1          0          0.0%\n",
       "347464                 1          0          0.0%\n",
       "\n",
       "[681 rows x 3 columns]"
      ],
      "text/html": [
       "<div>\n",
       "<style scoped>\n",
       "    .dataframe tbody tr th:only-of-type {\n",
       "        vertical-align: middle;\n",
       "    }\n",
       "\n",
       "    .dataframe tbody tr th {\n",
       "        vertical-align: top;\n",
       "    }\n",
       "\n",
       "    .dataframe thead th {\n",
       "        text-align: right;\n",
       "    }\n",
       "</style>\n",
       "<table border=\"1\" class=\"dataframe\">\n",
       "  <thead>\n",
       "    <tr style=\"text-align: right;\">\n",
       "      <th></th>\n",
       "      <th>Total_passengers</th>\n",
       "      <th>Survivors</th>\n",
       "      <th>Survival_Rate</th>\n",
       "    </tr>\n",
       "    <tr>\n",
       "      <th>Ticket</th>\n",
       "      <th></th>\n",
       "      <th></th>\n",
       "      <th></th>\n",
       "    </tr>\n",
       "  </thead>\n",
       "  <tbody>\n",
       "    <tr>\n",
       "      <th>110152</th>\n",
       "      <td>3</td>\n",
       "      <td>3</td>\n",
       "      <td>100.0%</td>\n",
       "    </tr>\n",
       "    <tr>\n",
       "      <th>26360</th>\n",
       "      <td>2</td>\n",
       "      <td>2</td>\n",
       "      <td>100.0%</td>\n",
       "    </tr>\n",
       "    <tr>\n",
       "      <th>386525</th>\n",
       "      <td>1</td>\n",
       "      <td>1</td>\n",
       "      <td>100.0%</td>\n",
       "    </tr>\n",
       "    <tr>\n",
       "      <th>382651</th>\n",
       "      <td>1</td>\n",
       "      <td>1</td>\n",
       "      <td>100.0%</td>\n",
       "    </tr>\n",
       "    <tr>\n",
       "      <th>244373</th>\n",
       "      <td>1</td>\n",
       "      <td>1</td>\n",
       "      <td>100.0%</td>\n",
       "    </tr>\n",
       "    <tr>\n",
       "      <th>...</th>\n",
       "      <td>...</td>\n",
       "      <td>...</td>\n",
       "      <td>...</td>\n",
       "    </tr>\n",
       "    <tr>\n",
       "      <th>349246</th>\n",
       "      <td>1</td>\n",
       "      <td>0</td>\n",
       "      <td>0.0%</td>\n",
       "    </tr>\n",
       "    <tr>\n",
       "      <th>349245</th>\n",
       "      <td>1</td>\n",
       "      <td>0</td>\n",
       "      <td>0.0%</td>\n",
       "    </tr>\n",
       "    <tr>\n",
       "      <th>2669</th>\n",
       "      <td>1</td>\n",
       "      <td>0</td>\n",
       "      <td>0.0%</td>\n",
       "    </tr>\n",
       "    <tr>\n",
       "      <th>349243</th>\n",
       "      <td>1</td>\n",
       "      <td>0</td>\n",
       "      <td>0.0%</td>\n",
       "    </tr>\n",
       "    <tr>\n",
       "      <th>347464</th>\n",
       "      <td>1</td>\n",
       "      <td>0</td>\n",
       "      <td>0.0%</td>\n",
       "    </tr>\n",
       "  </tbody>\n",
       "</table>\n",
       "<p>681 rows × 3 columns</p>\n",
       "</div>"
      ]
     },
     "execution_count": 25,
     "metadata": {},
     "output_type": "execute_result"
    }
   ],
   "execution_count": 25
  },
  {
   "metadata": {},
   "cell_type": "markdown",
   "source": [
    "* People with the same ticket number has more tendency to survive\n",
    "* 🤔 Replace the Ticket variable by a synthetic variable to assign to each ticket number the number of persons associated to the ticket"
   ],
   "id": "35557d68992eb6db"
  },
  {
   "metadata": {},
   "cell_type": "markdown",
   "source": "# Fare survivors",
   "id": "ec07341fb67cffaa"
  },
  {
   "metadata": {
    "ExecuteTime": {
     "end_time": "2025-07-04T18:07:11.379296Z",
     "start_time": "2025-07-04T18:07:11.354821Z"
    }
   },
   "cell_type": "code",
   "source": [
    "# Count surviving passengers by Fare\n",
    "fare_survivors = train.groupby('Fare')['Survived'].agg(['count', 'sum'])\n",
    "fare_survivors.columns = ['Total_passengers', 'Survivors']\n",
    "\n",
    "# Calculate survival rate\n",
    "fare_survivors['Survival_Rate'] = fare_survivors['Survivors'] / fare_survivors['Total_passengers']\n",
    "fare_survivors  = fare_survivors.sort_values(by=['Survival_Rate'], ascending=False)\n",
    "\n",
    "# Format survival rate as percentage\n",
    "fare_survivors['Survival_Rate'] = fare_survivors['Survival_Rate'].map('{:.1%}'.format)\n",
    "\n",
    "print(\"Survival Statistics by Fare:\")\n",
    "fare_survivors"
   ],
   "id": "35c645947294db7",
   "outputs": [
    {
     "name": "stdout",
     "output_type": "stream",
     "text": [
      "Survival Statistics by Fare:\n"
     ]
    },
    {
     "data": {
      "text/plain": [
       "          Total_passengers  Survivors Survival_Rate\n",
       "Fare                                               \n",
       "512.3292                 3          3        100.0%\n",
       "57.9792                  2          2        100.0%\n",
       "13.8583                  1          1        100.0%\n",
       "13.7917                  1          1        100.0%\n",
       "13.4167                  1          1        100.0%\n",
       "...                    ...        ...           ...\n",
       "15.5500                  1          0          0.0%\n",
       "47.1000                  1          0          0.0%\n",
       "46.9000                  6          0          0.0%\n",
       "42.4000                  1          0          0.0%\n",
       "21.0750                  4          0          0.0%\n",
       "\n",
       "[248 rows x 3 columns]"
      ],
      "text/html": [
       "<div>\n",
       "<style scoped>\n",
       "    .dataframe tbody tr th:only-of-type {\n",
       "        vertical-align: middle;\n",
       "    }\n",
       "\n",
       "    .dataframe tbody tr th {\n",
       "        vertical-align: top;\n",
       "    }\n",
       "\n",
       "    .dataframe thead th {\n",
       "        text-align: right;\n",
       "    }\n",
       "</style>\n",
       "<table border=\"1\" class=\"dataframe\">\n",
       "  <thead>\n",
       "    <tr style=\"text-align: right;\">\n",
       "      <th></th>\n",
       "      <th>Total_passengers</th>\n",
       "      <th>Survivors</th>\n",
       "      <th>Survival_Rate</th>\n",
       "    </tr>\n",
       "    <tr>\n",
       "      <th>Fare</th>\n",
       "      <th></th>\n",
       "      <th></th>\n",
       "      <th></th>\n",
       "    </tr>\n",
       "  </thead>\n",
       "  <tbody>\n",
       "    <tr>\n",
       "      <th>512.3292</th>\n",
       "      <td>3</td>\n",
       "      <td>3</td>\n",
       "      <td>100.0%</td>\n",
       "    </tr>\n",
       "    <tr>\n",
       "      <th>57.9792</th>\n",
       "      <td>2</td>\n",
       "      <td>2</td>\n",
       "      <td>100.0%</td>\n",
       "    </tr>\n",
       "    <tr>\n",
       "      <th>13.8583</th>\n",
       "      <td>1</td>\n",
       "      <td>1</td>\n",
       "      <td>100.0%</td>\n",
       "    </tr>\n",
       "    <tr>\n",
       "      <th>13.7917</th>\n",
       "      <td>1</td>\n",
       "      <td>1</td>\n",
       "      <td>100.0%</td>\n",
       "    </tr>\n",
       "    <tr>\n",
       "      <th>13.4167</th>\n",
       "      <td>1</td>\n",
       "      <td>1</td>\n",
       "      <td>100.0%</td>\n",
       "    </tr>\n",
       "    <tr>\n",
       "      <th>...</th>\n",
       "      <td>...</td>\n",
       "      <td>...</td>\n",
       "      <td>...</td>\n",
       "    </tr>\n",
       "    <tr>\n",
       "      <th>15.5500</th>\n",
       "      <td>1</td>\n",
       "      <td>0</td>\n",
       "      <td>0.0%</td>\n",
       "    </tr>\n",
       "    <tr>\n",
       "      <th>47.1000</th>\n",
       "      <td>1</td>\n",
       "      <td>0</td>\n",
       "      <td>0.0%</td>\n",
       "    </tr>\n",
       "    <tr>\n",
       "      <th>46.9000</th>\n",
       "      <td>6</td>\n",
       "      <td>0</td>\n",
       "      <td>0.0%</td>\n",
       "    </tr>\n",
       "    <tr>\n",
       "      <th>42.4000</th>\n",
       "      <td>1</td>\n",
       "      <td>0</td>\n",
       "      <td>0.0%</td>\n",
       "    </tr>\n",
       "    <tr>\n",
       "      <th>21.0750</th>\n",
       "      <td>4</td>\n",
       "      <td>0</td>\n",
       "      <td>0.0%</td>\n",
       "    </tr>\n",
       "  </tbody>\n",
       "</table>\n",
       "<p>248 rows × 3 columns</p>\n",
       "</div>"
      ]
     },
     "execution_count": 28,
     "metadata": {},
     "output_type": "execute_result"
    }
   ],
   "execution_count": 28
  },
  {
   "metadata": {},
   "cell_type": "markdown",
   "source": "# Cabin survivors",
   "id": "5264e86ae509e865"
  },
  {
   "metadata": {},
   "cell_type": "markdown",
   "source": "Not considered because there a lot of records missing in the dataset",
   "id": "2f1c7cf84cc98b19"
  },
  {
   "metadata": {},
   "cell_type": "markdown",
   "source": "# Embarqued survivors",
   "id": "40aff1d5c240019a"
  },
  {
   "metadata": {
    "ExecuteTime": {
     "end_time": "2025-07-04T18:04:50.086689Z",
     "start_time": "2025-07-04T18:04:50.065559Z"
    }
   },
   "cell_type": "code",
   "source": [
    "# Count surviving passengers by Embarqued (city of embarking)\n",
    "embarked_survivors = train.groupby('Embarked')['Survived'].agg(['count', 'sum'])\n",
    "embarked_survivors.columns = ['Total_passengers', 'Survivors']\n",
    "\n",
    "# Calculate survival rate\n",
    "embarked_survivors['Survival_Rate'] = embarked_survivors['Survivors'] / embarked_survivors['Total_passengers']\n",
    "embarked_survivors  = embarked_survivors.sort_values(by=['Survival_Rate'], ascending=False)\n",
    "\n",
    "# Format survival rate as percentage\n",
    "embarked_survivors['Survival_Rate'] = embarked_survivors['Survival_Rate'].map('{:.1%}'.format)\n",
    "\n",
    "print(\"Survival Statistics by Embarked city (C = Cherbourg, Q = Queenstown, S = Southampton):\")\n",
    "embarked_survivors"
   ],
   "id": "5327c5ae5f2ab537",
   "outputs": [
    {
     "name": "stdout",
     "output_type": "stream",
     "text": [
      "Survival Statistics by Embarked city (C = Cherbourg, Q = Queenstown, S = Southampton):\n"
     ]
    },
    {
     "data": {
      "text/plain": [
       "          Total_passengers  Survivors Survival_Rate\n",
       "Embarked                                           \n",
       "C                      168         93         55.4%\n",
       "Q                       77         30         39.0%\n",
       "S                      644        217         33.7%"
      ],
      "text/html": [
       "<div>\n",
       "<style scoped>\n",
       "    .dataframe tbody tr th:only-of-type {\n",
       "        vertical-align: middle;\n",
       "    }\n",
       "\n",
       "    .dataframe tbody tr th {\n",
       "        vertical-align: top;\n",
       "    }\n",
       "\n",
       "    .dataframe thead th {\n",
       "        text-align: right;\n",
       "    }\n",
       "</style>\n",
       "<table border=\"1\" class=\"dataframe\">\n",
       "  <thead>\n",
       "    <tr style=\"text-align: right;\">\n",
       "      <th></th>\n",
       "      <th>Total_passengers</th>\n",
       "      <th>Survivors</th>\n",
       "      <th>Survival_Rate</th>\n",
       "    </tr>\n",
       "    <tr>\n",
       "      <th>Embarked</th>\n",
       "      <th></th>\n",
       "      <th></th>\n",
       "      <th></th>\n",
       "    </tr>\n",
       "  </thead>\n",
       "  <tbody>\n",
       "    <tr>\n",
       "      <th>C</th>\n",
       "      <td>168</td>\n",
       "      <td>93</td>\n",
       "      <td>55.4%</td>\n",
       "    </tr>\n",
       "    <tr>\n",
       "      <th>Q</th>\n",
       "      <td>77</td>\n",
       "      <td>30</td>\n",
       "      <td>39.0%</td>\n",
       "    </tr>\n",
       "    <tr>\n",
       "      <th>S</th>\n",
       "      <td>644</td>\n",
       "      <td>217</td>\n",
       "      <td>33.7%</td>\n",
       "    </tr>\n",
       "  </tbody>\n",
       "</table>\n",
       "</div>"
      ]
     },
     "execution_count": 27,
     "metadata": {},
     "output_type": "execute_result"
    }
   ],
   "execution_count": 27
  },
  {
   "metadata": {},
   "cell_type": "markdown",
   "source": [
    "# Conclussion\n",
    "## Good predictors\n",
    "* Pclass\n",
    "* Sex\n",
    "* Age but transformed/engineered into a categorical variable to separete child, regular, and old passengers (60+)\n",
    "* SibSp but through a synthetic variable to differentiate the couple traveling with either 0 or 1 children\n",
    "* Parch but through an synthetic variable to differentiate children traveling with 1 or 2 parents\n",
    "* Replace the Ticket variable by a synthetic variable to assign to each ticket number the number of persons associated to the ticket -> The synthetic variable can be 'traveling_together' = 1: Passengers traveling with other members of their family 0: Otherwise. Passengers traveling together have the same fare and ticket numbers\n",
    "* Fare can be used along with the Ticket variable to distinguish passengers travelling together\n",
    "* People embarked at Cherbourg had the highest survival rate -> Create a dummy variable to distinguish them <br>\n",
    "\n",
    "**Consider create synthetic variables for:**\n",
    "* Group passenger by age groups\n",
    "* Passengers traveling alone: Sibsp + Parch = 1\n",
    "* Extract title from name\n",
    "\n",
    "**Further refinement**\n",
    "* Need to get a look for the variable 'Name': Look at those articles [Feature engineering Name 1](https://triangleinequality.wordpress.com/2013/09/08/basic-feature-engineering-with-the-titanic-data/) and [Feature engineering Name 2](https://gertlowitz.blogspot.com/2013/06/where-am-i-up-to-with-titanic-competion.html)"
   ],
   "id": "5aa1c0d743e3cfcb"
  }
 ],
 "metadata": {
  "kernelspec": {
   "display_name": "Python 3",
   "language": "python",
   "name": "python3"
  },
  "language_info": {
   "codemirror_mode": {
    "name": "ipython",
    "version": 2
   },
   "file_extension": ".py",
   "mimetype": "text/x-python",
   "name": "python",
   "nbconvert_exporter": "python",
   "pygments_lexer": "ipython2",
   "version": "2.7.6"
  }
 },
 "nbformat": 4,
 "nbformat_minor": 5
}
