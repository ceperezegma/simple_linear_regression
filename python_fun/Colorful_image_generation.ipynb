{
 "cells": [
  {
   "metadata": {},
   "cell_type": "markdown",
   "source": "This code This code creates a colorful spiral pattern using Python's turtle graphics",
   "id": "22bca4b021ce4af0"
  },
  {
   "cell_type": "code",
   "id": "initial_id",
   "metadata": {
    "collapsed": true,
    "ExecuteTime": {
     "end_time": "2025-01-04T11:04:56.061482Z",
     "start_time": "2025-01-04T11:04:55.844564Z"
    }
   },
   "source": [
    "import turtle as t\n",
    "import colorsys\n",
    "from turtledemo.nim import randommove"
   ],
   "outputs": [],
   "execution_count": 1
  },
  {
   "metadata": {
    "ExecuteTime": {
     "end_time": "2025-01-04T11:38:06.978333Z",
     "start_time": "2025-01-04T11:36:43.790109Z"
    }
   },
   "cell_type": "code",
   "source": [
    "t.speed(0)\n",
    "t.bgcolor('black')\n",
    "\n",
    "h=0\n",
    "for i in range(18):\n",
    "    for j in range(18):\n",
    "        c = colorsys.hsv_to_rgb(h, 1, 1)\n",
    "        t.color(c)\n",
    "        h += 1/324 # To cover the full rainbow colors between the inner and outer look: 18 * 18 = 324\n",
    "        t.right(90)\n",
    "        t.circle(150 - j * 6, 90)\n",
    "        t.right(180)\n",
    "    t.circle(40, 20)\n",
    "t.done()"
   ],
   "id": "7a47cc3dbd06c189",
   "outputs": [],
   "execution_count": 26
  },
  {
   "metadata": {},
   "cell_type": "markdown",
   "source": [
    "This is what this code does:\n",
    "1. The code uses two nested loops to create a spiral pattern with changing colors:\n",
    "    * The outer loop runs 18 times\n",
    "    * The inner loop also runs 18 times\n",
    "\n",
    "2. Color handling:\n",
    "    * It uses `colorsys.hsv_to_rgb()` to generate colors\n",
    "    * `h` is gradually increased by 0.005 each time, which creates a smooth color transition\n",
    "    * The colors go through the rainbow spectrum as the pattern is drawn\n",
    "\n",
    "3. Drawing pattern:\n",
    "    * For each iteration, it:\n",
    "        *  Sets a new color\n",
    "        * Turns right 90 degrees\n",
    "        * Draws a partial circle (90 degrees) that gets smaller each time (150 - j * 6)\n",
    "        * Turns around 180 degrees\n",
    "    * After each set of inner loops, it draws a small arc (circle(40, 20))\n",
    "\n",
    "The result is a beautiful spiral pattern that:\n",
    "* Changes colors gradually through the rainbow\n",
    "* Gets smaller towards the center\n",
    "* Creates a flower-like or mandala effect\n",
    "\n",
    "Think of it like drawing a spiral with a pencil that automatically changes colors as you draw, and each loop of the spiral gets slightly smaller than the previous one."
   ],
   "id": "1f2b4de1e480c06d"
  },
  {
   "metadata": {},
   "cell_type": "code",
   "outputs": [],
   "execution_count": null,
   "source": "",
   "id": "ee1228aa57e96356"
  }
 ],
 "metadata": {
  "kernelspec": {
   "display_name": "Python 3",
   "language": "python",
   "name": "python3"
  },
  "language_info": {
   "codemirror_mode": {
    "name": "ipython",
    "version": 2
   },
   "file_extension": ".py",
   "mimetype": "text/x-python",
   "name": "python",
   "nbconvert_exporter": "python",
   "pygments_lexer": "ipython2",
   "version": "2.7.6"
  }
 },
 "nbformat": 4,
 "nbformat_minor": 5
}
