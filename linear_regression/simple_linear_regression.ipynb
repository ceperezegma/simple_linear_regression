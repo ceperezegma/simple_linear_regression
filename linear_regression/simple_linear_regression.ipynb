{
 "cells": [
  {
   "metadata": {},
   "cell_type": "markdown",
   "source": [
    "This tutorial is based on the the medium article [Simple Linear Regression Tutorial for Machine Learning (ML)](https://medium.com/towards-artificial-intelligence/calculating-simple-linear-regression-and-linear-best-fit-an-in-depth-tutorial-with-math-and-python-804a0cb23660)<br><br>\n",
    "\n",
    "We'll build the model from scratch using known formulas to define the regression straight line. The objective of this tutorial is build  a model to predict the house price based on its surface.<br>\n",
    "\n",
    "The objective here is to build a model to predict cars CO2 emissions from different cars features.\n",
    "\n"
   ],
   "id": "e99223c83bc82cf"
  },
  {
   "metadata": {
    "ExecuteTime": {
     "end_time": "2024-12-08T12:22:06.404184Z",
     "start_time": "2024-12-08T12:21:58.440982Z"
    }
   },
   "cell_type": "code",
   "source": [
    "import numpy as np\n",
    "import pandas as pd\n",
    "import matplotlib.pyplot as plt\n",
    "from sklearn import linear_model"
   ],
   "id": "bcacb16020790f3c",
   "outputs": [],
   "execution_count": 71
  },
  {
   "metadata": {
    "ExecuteTime": {
     "end_time": "2024-12-08T12:48:22.738359Z",
     "start_time": "2024-12-08T12:48:22.716853Z"
    }
   },
   "cell_type": "code",
   "source": [
    "# Read datasetb\n",
    "data = pd.read_csv('Fuel_Consumption.csv', sep = ',')\n",
    "data"
   ],
   "id": "8bae4b71661f110",
   "outputs": [
    {
     "data": {
      "text/plain": [
       "      MODELYEAR   MAKE       MODEL    VEHICLECLASS  ENGINESIZE  CYLINDERS  \\\n",
       "0          2014  ACURA         ILX         COMPACT           2          4   \n",
       "1          2014  ACURA         ILX         COMPACT           2          4   \n",
       "2          2014  ACURA  ILX HYBRID         COMPACT           1          4   \n",
       "3          2014  ACURA     MDX 4WD     SUV - SMALL           3          6   \n",
       "4          2014  ACURA     RDX AWD     SUV - SMALL           3          6   \n",
       "...         ...    ...         ...             ...         ...        ...   \n",
       "1062       2014  VOLVO    XC60 AWD     SUV - SMALL           3          6   \n",
       "1063       2014  VOLVO    XC60 AWD     SUV - SMALL           3          6   \n",
       "1064       2014  VOLVO    XC70 AWD     SUV - SMALL           3          6   \n",
       "1065       2014  VOLVO    XC70 AWD     SUV - SMALL           3          6   \n",
       "1066       2014  VOLVO    XC90 AWD  SUV - STANDARD           3          6   \n",
       "\n",
       "     TRANSMISSION FUELTYPE  FUELCONSUMPTION_CITY  FUELCONSUMPTION_HWY  \\\n",
       "0             AS5        Z                     9                    6   \n",
       "1              M6        Z                    11                    7   \n",
       "2             AV7        Z                     6                    5   \n",
       "3             AS6        Z                    12                    9   \n",
       "4             AS6        Z                    12                    8   \n",
       "...           ...      ...                   ...                  ...   \n",
       "1062          AS6        X                    13                    9   \n",
       "1063          AS6        X                    13                    9   \n",
       "1064          AS6        X                    13                    9   \n",
       "1065          AS6        X                    12                    9   \n",
       "1066          AS6        X                    14                   10   \n",
       "\n",
       "      FUELCONSUMPTION_COMB  FUELCONSUMPTION_COMB_MPG  CO2EMISSIONS  \n",
       "0                        8                        33           196  \n",
       "1                        9                        29           221  \n",
       "2                        5                        48           136  \n",
       "3                       11                        25           255  \n",
       "4                       10                        27           244  \n",
       "...                    ...                       ...           ...  \n",
       "1062                    11                        24           271  \n",
       "1063                    11                        25           264  \n",
       "1064                    11                        24           271  \n",
       "1065                    11                        25           260  \n",
       "1066                    12                        22           294  \n",
       "\n",
       "[1067 rows x 13 columns]"
      ],
      "text/html": [
       "<div>\n",
       "<style scoped>\n",
       "    .dataframe tbody tr th:only-of-type {\n",
       "        vertical-align: middle;\n",
       "    }\n",
       "\n",
       "    .dataframe tbody tr th {\n",
       "        vertical-align: top;\n",
       "    }\n",
       "\n",
       "    .dataframe thead th {\n",
       "        text-align: right;\n",
       "    }\n",
       "</style>\n",
       "<table border=\"1\" class=\"dataframe\">\n",
       "  <thead>\n",
       "    <tr style=\"text-align: right;\">\n",
       "      <th></th>\n",
       "      <th>MODELYEAR</th>\n",
       "      <th>MAKE</th>\n",
       "      <th>MODEL</th>\n",
       "      <th>VEHICLECLASS</th>\n",
       "      <th>ENGINESIZE</th>\n",
       "      <th>CYLINDERS</th>\n",
       "      <th>TRANSMISSION</th>\n",
       "      <th>FUELTYPE</th>\n",
       "      <th>FUELCONSUMPTION_CITY</th>\n",
       "      <th>FUELCONSUMPTION_HWY</th>\n",
       "      <th>FUELCONSUMPTION_COMB</th>\n",
       "      <th>FUELCONSUMPTION_COMB_MPG</th>\n",
       "      <th>CO2EMISSIONS</th>\n",
       "    </tr>\n",
       "  </thead>\n",
       "  <tbody>\n",
       "    <tr>\n",
       "      <th>0</th>\n",
       "      <td>2014</td>\n",
       "      <td>ACURA</td>\n",
       "      <td>ILX</td>\n",
       "      <td>COMPACT</td>\n",
       "      <td>2</td>\n",
       "      <td>4</td>\n",
       "      <td>AS5</td>\n",
       "      <td>Z</td>\n",
       "      <td>9</td>\n",
       "      <td>6</td>\n",
       "      <td>8</td>\n",
       "      <td>33</td>\n",
       "      <td>196</td>\n",
       "    </tr>\n",
       "    <tr>\n",
       "      <th>1</th>\n",
       "      <td>2014</td>\n",
       "      <td>ACURA</td>\n",
       "      <td>ILX</td>\n",
       "      <td>COMPACT</td>\n",
       "      <td>2</td>\n",
       "      <td>4</td>\n",
       "      <td>M6</td>\n",
       "      <td>Z</td>\n",
       "      <td>11</td>\n",
       "      <td>7</td>\n",
       "      <td>9</td>\n",
       "      <td>29</td>\n",
       "      <td>221</td>\n",
       "    </tr>\n",
       "    <tr>\n",
       "      <th>2</th>\n",
       "      <td>2014</td>\n",
       "      <td>ACURA</td>\n",
       "      <td>ILX HYBRID</td>\n",
       "      <td>COMPACT</td>\n",
       "      <td>1</td>\n",
       "      <td>4</td>\n",
       "      <td>AV7</td>\n",
       "      <td>Z</td>\n",
       "      <td>6</td>\n",
       "      <td>5</td>\n",
       "      <td>5</td>\n",
       "      <td>48</td>\n",
       "      <td>136</td>\n",
       "    </tr>\n",
       "    <tr>\n",
       "      <th>3</th>\n",
       "      <td>2014</td>\n",
       "      <td>ACURA</td>\n",
       "      <td>MDX 4WD</td>\n",
       "      <td>SUV - SMALL</td>\n",
       "      <td>3</td>\n",
       "      <td>6</td>\n",
       "      <td>AS6</td>\n",
       "      <td>Z</td>\n",
       "      <td>12</td>\n",
       "      <td>9</td>\n",
       "      <td>11</td>\n",
       "      <td>25</td>\n",
       "      <td>255</td>\n",
       "    </tr>\n",
       "    <tr>\n",
       "      <th>4</th>\n",
       "      <td>2014</td>\n",
       "      <td>ACURA</td>\n",
       "      <td>RDX AWD</td>\n",
       "      <td>SUV - SMALL</td>\n",
       "      <td>3</td>\n",
       "      <td>6</td>\n",
       "      <td>AS6</td>\n",
       "      <td>Z</td>\n",
       "      <td>12</td>\n",
       "      <td>8</td>\n",
       "      <td>10</td>\n",
       "      <td>27</td>\n",
       "      <td>244</td>\n",
       "    </tr>\n",
       "    <tr>\n",
       "      <th>...</th>\n",
       "      <td>...</td>\n",
       "      <td>...</td>\n",
       "      <td>...</td>\n",
       "      <td>...</td>\n",
       "      <td>...</td>\n",
       "      <td>...</td>\n",
       "      <td>...</td>\n",
       "      <td>...</td>\n",
       "      <td>...</td>\n",
       "      <td>...</td>\n",
       "      <td>...</td>\n",
       "      <td>...</td>\n",
       "      <td>...</td>\n",
       "    </tr>\n",
       "    <tr>\n",
       "      <th>1062</th>\n",
       "      <td>2014</td>\n",
       "      <td>VOLVO</td>\n",
       "      <td>XC60 AWD</td>\n",
       "      <td>SUV - SMALL</td>\n",
       "      <td>3</td>\n",
       "      <td>6</td>\n",
       "      <td>AS6</td>\n",
       "      <td>X</td>\n",
       "      <td>13</td>\n",
       "      <td>9</td>\n",
       "      <td>11</td>\n",
       "      <td>24</td>\n",
       "      <td>271</td>\n",
       "    </tr>\n",
       "    <tr>\n",
       "      <th>1063</th>\n",
       "      <td>2014</td>\n",
       "      <td>VOLVO</td>\n",
       "      <td>XC60 AWD</td>\n",
       "      <td>SUV - SMALL</td>\n",
       "      <td>3</td>\n",
       "      <td>6</td>\n",
       "      <td>AS6</td>\n",
       "      <td>X</td>\n",
       "      <td>13</td>\n",
       "      <td>9</td>\n",
       "      <td>11</td>\n",
       "      <td>25</td>\n",
       "      <td>264</td>\n",
       "    </tr>\n",
       "    <tr>\n",
       "      <th>1064</th>\n",
       "      <td>2014</td>\n",
       "      <td>VOLVO</td>\n",
       "      <td>XC70 AWD</td>\n",
       "      <td>SUV - SMALL</td>\n",
       "      <td>3</td>\n",
       "      <td>6</td>\n",
       "      <td>AS6</td>\n",
       "      <td>X</td>\n",
       "      <td>13</td>\n",
       "      <td>9</td>\n",
       "      <td>11</td>\n",
       "      <td>24</td>\n",
       "      <td>271</td>\n",
       "    </tr>\n",
       "    <tr>\n",
       "      <th>1065</th>\n",
       "      <td>2014</td>\n",
       "      <td>VOLVO</td>\n",
       "      <td>XC70 AWD</td>\n",
       "      <td>SUV - SMALL</td>\n",
       "      <td>3</td>\n",
       "      <td>6</td>\n",
       "      <td>AS6</td>\n",
       "      <td>X</td>\n",
       "      <td>12</td>\n",
       "      <td>9</td>\n",
       "      <td>11</td>\n",
       "      <td>25</td>\n",
       "      <td>260</td>\n",
       "    </tr>\n",
       "    <tr>\n",
       "      <th>1066</th>\n",
       "      <td>2014</td>\n",
       "      <td>VOLVO</td>\n",
       "      <td>XC90 AWD</td>\n",
       "      <td>SUV - STANDARD</td>\n",
       "      <td>3</td>\n",
       "      <td>6</td>\n",
       "      <td>AS6</td>\n",
       "      <td>X</td>\n",
       "      <td>14</td>\n",
       "      <td>10</td>\n",
       "      <td>12</td>\n",
       "      <td>22</td>\n",
       "      <td>294</td>\n",
       "    </tr>\n",
       "  </tbody>\n",
       "</table>\n",
       "<p>1067 rows × 13 columns</p>\n",
       "</div>"
      ]
     },
     "execution_count": 86,
     "metadata": {},
     "output_type": "execute_result"
    }
   ],
   "execution_count": 86
  },
  {
   "metadata": {
    "ExecuteTime": {
     "end_time": "2024-12-08T11:24:07.799613Z",
     "start_time": "2024-12-08T11:24:07.790935Z"
    }
   },
   "cell_type": "code",
   "source": "data.columns",
   "id": "68f7f4c538506bc5",
   "outputs": [
    {
     "data": {
      "text/plain": [
       "Index(['MODELYEAR', 'MAKE', 'MODEL', 'VEHICLECLASS', 'ENGINESIZE', 'CYLINDERS',\n",
       "       'TRANSMISSION', 'FUELTYPE', 'FUELCONSUMPTION_CITY',\n",
       "       'FUELCONSUMPTION_HWY', 'FUELCONSUMPTION_COMB',\n",
       "       'FUELCONSUMPTION_COMB_MPG', 'CO2EMISSIONS'],\n",
       "      dtype='object')"
      ]
     },
     "execution_count": 3,
     "metadata": {},
     "output_type": "execute_result"
    }
   ],
   "execution_count": 3
  },
  {
   "metadata": {
    "ExecuteTime": {
     "end_time": "2024-12-08T11:24:08.014238Z",
     "start_time": "2024-12-08T11:24:08.001450Z"
    }
   },
   "cell_type": "code",
   "source": [
    "# find datatype of each column and check if records have null values\n",
    "data.info()"
   ],
   "id": "467181a2058bbd95",
   "outputs": [
    {
     "name": "stdout",
     "output_type": "stream",
     "text": [
      "<class 'pandas.core.frame.DataFrame'>\n",
      "RangeIndex: 1067 entries, 0 to 1066\n",
      "Data columns (total 13 columns):\n",
      " #   Column                    Non-Null Count  Dtype  \n",
      "---  ------                    --------------  -----  \n",
      " 0   MODELYEAR                 1067 non-null   int64  \n",
      " 1   MAKE                      1067 non-null   object \n",
      " 2   MODEL                     1067 non-null   object \n",
      " 3   VEHICLECLASS              1067 non-null   object \n",
      " 4   ENGINESIZE                1067 non-null   float64\n",
      " 5   CYLINDERS                 1067 non-null   int64  \n",
      " 6   TRANSMISSION              1067 non-null   object \n",
      " 7   FUELTYPE                  1067 non-null   object \n",
      " 8   FUELCONSUMPTION_CITY      1067 non-null   float64\n",
      " 9   FUELCONSUMPTION_HWY       1067 non-null   float64\n",
      " 10  FUELCONSUMPTION_COMB      1067 non-null   float64\n",
      " 11  FUELCONSUMPTION_COMB_MPG  1067 non-null   int64  \n",
      " 12  CO2EMISSIONS              1067 non-null   int64  \n",
      "dtypes: float64(4), int64(4), object(5)\n",
      "memory usage: 108.5+ KB\n"
     ]
    }
   ],
   "execution_count": 4
  },
  {
   "metadata": {
    "ExecuteTime": {
     "end_time": "2024-12-08T11:24:08.168051Z",
     "start_time": "2024-12-08T11:24:08.157230Z"
    }
   },
   "cell_type": "code",
   "source": [
    "# Selects the columns to build the model\n",
    "data = data[['ENGINESIZE', 'CO2EMISSIONS']]\n",
    "print(data.head())"
   ],
   "id": "55363370835494ea",
   "outputs": [
    {
     "name": "stdout",
     "output_type": "stream",
     "text": [
      "   ENGINESIZE  CO2EMISSIONS\n",
      "0         2.0           196\n",
      "1         2.4           221\n",
      "2         1.5           136\n",
      "3         3.5           255\n",
      "4         3.5           244\n"
     ]
    }
   ],
   "execution_count": 5
  },
  {
   "metadata": {
    "ExecuteTime": {
     "end_time": "2024-12-08T11:24:09.313862Z",
     "start_time": "2024-12-08T11:24:08.361440Z"
    }
   },
   "cell_type": "code",
   "source": [
    "# Scatter plot ENGINESIZE vs. CO2EMISSIONS\n",
    "plt.scatter(data['ENGINESIZE'], data['CO2EMISSIONS'])\n",
    "plt.title('ENGINESIZE vs. CO2EMISSIONS')\n",
    "plt.xlabel('ENGINESIZE')\n",
    "plt.ylabel('CO2EMISSIONS')\n",
    "plt.show()\n"
   ],
   "id": "fcd95b69d796271e",
   "outputs": [
    {
     "data": {
      "text/plain": [
       "<Figure size 640x480 with 1 Axes>"
      ],
      "image/png": "[encoded data removed]"
     },
     "metadata": {},
     "output_type": "display_data"
    }
   ],
   "execution_count": 6
  },
  {
   "metadata": {
    "ExecuteTime": {
     "end_time": "2024-12-08T11:24:09.459785Z",
     "start_time": "2024-12-08T11:24:09.452998Z"
    }
   },
   "cell_type": "code",
   "source": [
    "# Divide data between training (80%) and testing(20%) datasets\n",
    "num = int(len(data) * 0.8)\n",
    "\n",
    "train = data[:num]\n",
    "test = data[num:]\n",
    "\n",
    "print(f\"Data: {len(data)}\")\n",
    "print(f\"Train: {len(train)}\")\n",
    "print(f\"Test: {len(test)}\")\n"
   ],
   "id": "3dd5031836fd26f4",
   "outputs": [
    {
     "name": "stdout",
     "output_type": "stream",
     "text": [
      "Data: 1067\n",
      "Train: 853\n",
      "Test: 214\n"
     ]
    }
   ],
   "execution_count": 7
  },
  {
   "metadata": {},
   "cell_type": "markdown",
   "source": "# Making predictions by building a linear regression model from scratch",
   "id": "fe0f641f2ab62525"
  },
  {
   "metadata": {
    "ExecuteTime": {
     "end_time": "2024-12-08T11:47:59.015887Z",
     "start_time": "2024-12-08T11:47:59.007187Z"
    }
   },
   "cell_type": "code",
   "source": [
    "# Main function to calculate the line coefficients\n",
    "\n",
    "def simple_linear_regression(input_feature, output):\n",
    "    xi = input_feature\n",
    "    yi = output\n",
    "\n",
    "    # Total number of data points in teh training dataset\n",
    "    n = len(xi)\n",
    "\n",
    "    #X bar\n",
    "    x_mean = xi.mean()\n",
    "\n",
    "    #Y bar\n",
    "    y_mean = yi.mean()\n",
    "\n",
    "    # Slope calculation\n",
    "    s_xiyi = (xi * yi).sum()\n",
    "    s_ybar_xi = (xi * y_mean).sum()\n",
    "    s_xi_sqrt = (xi ** 2).sum()\n",
    "    s_xbar_xi = (xi * x_mean).sum()\n",
    "    slope = (s_xiyi - s_ybar_xi) / (s_xi_sqrt - s_xbar_xi)\n",
    "\n",
    "    # Intercept calculation\n",
    "    b = y_mean - slope * x_mean\n",
    "\n",
    "    return slope, b"
   ],
   "id": "ee83c2ba1b5df15",
   "outputs": [],
   "execution_count": 43
  },
  {
   "metadata": {
    "ExecuteTime": {
     "end_time": "2024-12-08T11:48:02.556714Z",
     "start_time": "2024-12-08T11:48:02.549988Z"
    }
   },
   "cell_type": "code",
   "source": [
    "# Checking the calculations of slope and intercept are right\n",
    "x_test = np.array((1, 2, 3, 4, 5))\n",
    "y_test = np.array((1, 2, 3, 4, 5))\n",
    "slope, intercept = simple_linear_regression(x_test, y_test)\n",
    "\n",
    "print(f\"slope: {slope}\")\n",
    "print(f\"intercept: {intercept}\")\n"
   ],
   "id": "f166f552e06e3dcd",
   "outputs": [
    {
     "name": "stdout",
     "output_type": "stream",
     "text": [
      "slope: 1.0\n",
      "intercept: 0.0\n"
     ]
    }
   ],
   "execution_count": 44
  },
  {
   "metadata": {
    "ExecuteTime": {
     "end_time": "2024-12-08T11:53:37.124858Z",
     "start_time": "2024-12-08T11:53:37.116889Z"
    }
   },
   "cell_type": "code",
   "source": [
    "# Calculates the slope and intercept for the training data\n",
    "slope, intercept = simple_linear_regression(train[\"ENGINESIZE\"], train['CO2EMISSIONS'])\n",
    "print(f\"slope: {slope}\")\n",
    "print(f\"intercept: {intercept}\")"
   ],
   "id": "3dbea12bee6cf46b",
   "outputs": [
    {
     "name": "stdout",
     "output_type": "stream",
     "text": [
      "slope: 38.79512383605654\n",
      "intercept: 127.16989950881938\n"
     ]
    }
   ],
   "execution_count": 47
  },
  {
   "metadata": {
    "ExecuteTime": {
     "end_time": "2024-12-08T11:53:42.533630Z",
     "start_time": "2024-12-08T11:53:42.404532Z"
    }
   },
   "cell_type": "code",
   "source": [
    "# Displaying the regression function with the training data\n",
    "\n",
    "plt.scatter(train[\"ENGINESIZE\"], train['CO2EMISSIONS'])\n",
    "plt.plot(train[\"ENGINESIZE\"], slope * train['ENGINESIZE'] + intercept, color='green')\n",
    "plt.xlabel(\"Engine size\")\n",
    "plt.ylabel(\"Emissions\")\n",
    "plt.show()"
   ],
   "id": "b68d92ba56b4e897",
   "outputs": [
    {
     "data": {
      "text/plain": [
       "<Figure size 640x480 with 1 Axes>"
      ],
      "image/png": "[encoded data removed]"
     },
     "metadata": {},
     "output_type": "display_data"
    }
   ],
   "execution_count": 48
  },
  {
   "metadata": {
    "ExecuteTime": {
     "end_time": "2024-12-08T11:57:53.084679Z",
     "start_time": "2024-12-08T11:57:53.076965Z"
    }
   },
   "cell_type": "code",
   "source": [
    "# Defines the prediction function\n",
    "def get_regression_prediction(input_features, slope, intercept):\n",
    "    return slope * input_features + intercept"
   ],
   "id": "49b9df3c20d305a3",
   "outputs": [],
   "execution_count": 51
  },
  {
   "metadata": {
    "ExecuteTime": {
     "end_time": "2024-12-08T12:11:03.507351Z",
     "start_time": "2024-12-08T12:11:03.490862Z"
    }
   },
   "cell_type": "code",
   "source": [
    "# Predicting values on the test dataset\n",
    "\n",
    "test.loc[:, 'CO2EMISSIONS_prediction'] = get_regression_prediction(test[\"ENGINESIZE\"], slope, intercept)\n",
    "test"
   ],
   "id": "1ec265254fd02ce6",
   "outputs": [
    {
     "data": {
      "text/plain": [
       "      ENGINESIZE  CO2EMISSIONS  CO2EMISSIONS_prediction\n",
       "853            2           202                      224\n",
       "854            3           255                      262\n",
       "855            2           191                      224\n",
       "856            2           198                      224\n",
       "857            1           161                      197\n",
       "...          ...           ...                      ...\n",
       "1062           3           271                      243\n",
       "1063           3           264                      251\n",
       "1064           3           271                      243\n",
       "1065           3           260                      251\n",
       "1066           3           294                      251\n",
       "\n",
       "[214 rows x 3 columns]"
      ],
      "text/html": [
       "<div>\n",
       "<style scoped>\n",
       "    .dataframe tbody tr th:only-of-type {\n",
       "        vertical-align: middle;\n",
       "    }\n",
       "\n",
       "    .dataframe tbody tr th {\n",
       "        vertical-align: top;\n",
       "    }\n",
       "\n",
       "    .dataframe thead th {\n",
       "        text-align: right;\n",
       "    }\n",
       "</style>\n",
       "<table border=\"1\" class=\"dataframe\">\n",
       "  <thead>\n",
       "    <tr style=\"text-align: right;\">\n",
       "      <th></th>\n",
       "      <th>ENGINESIZE</th>\n",
       "      <th>CO2EMISSIONS</th>\n",
       "      <th>CO2EMISSIONS_prediction</th>\n",
       "    </tr>\n",
       "  </thead>\n",
       "  <tbody>\n",
       "    <tr>\n",
       "      <th>853</th>\n",
       "      <td>2</td>\n",
       "      <td>202</td>\n",
       "      <td>224</td>\n",
       "    </tr>\n",
       "    <tr>\n",
       "      <th>854</th>\n",
       "      <td>3</td>\n",
       "      <td>255</td>\n",
       "      <td>262</td>\n",
       "    </tr>\n",
       "    <tr>\n",
       "      <th>855</th>\n",
       "      <td>2</td>\n",
       "      <td>191</td>\n",
       "      <td>224</td>\n",
       "    </tr>\n",
       "    <tr>\n",
       "      <th>856</th>\n",
       "      <td>2</td>\n",
       "      <td>198</td>\n",
       "      <td>224</td>\n",
       "    </tr>\n",
       "    <tr>\n",
       "      <th>857</th>\n",
       "      <td>1</td>\n",
       "      <td>161</td>\n",
       "      <td>197</td>\n",
       "    </tr>\n",
       "    <tr>\n",
       "      <th>...</th>\n",
       "      <td>...</td>\n",
       "      <td>...</td>\n",
       "      <td>...</td>\n",
       "    </tr>\n",
       "    <tr>\n",
       "      <th>1062</th>\n",
       "      <td>3</td>\n",
       "      <td>271</td>\n",
       "      <td>243</td>\n",
       "    </tr>\n",
       "    <tr>\n",
       "      <th>1063</th>\n",
       "      <td>3</td>\n",
       "      <td>264</td>\n",
       "      <td>251</td>\n",
       "    </tr>\n",
       "    <tr>\n",
       "      <th>1064</th>\n",
       "      <td>3</td>\n",
       "      <td>271</td>\n",
       "      <td>243</td>\n",
       "    </tr>\n",
       "    <tr>\n",
       "      <th>1065</th>\n",
       "      <td>3</td>\n",
       "      <td>260</td>\n",
       "      <td>251</td>\n",
       "    </tr>\n",
       "    <tr>\n",
       "      <th>1066</th>\n",
       "      <td>3</td>\n",
       "      <td>294</td>\n",
       "      <td>251</td>\n",
       "    </tr>\n",
       "  </tbody>\n",
       "</table>\n",
       "<p>214 rows × 3 columns</p>\n",
       "</div>"
      ]
     },
     "execution_count": 58,
     "metadata": {},
     "output_type": "execute_result"
    }
   ],
   "execution_count": 58
  },
  {
   "metadata": {
    "ExecuteTime": {
     "end_time": "2024-12-08T12:11:28.856536Z",
     "start_time": "2024-12-08T12:11:28.713811Z"
    }
   },
   "cell_type": "code",
   "source": [
    "# Displaying the regression function with the test data\n",
    "\n",
    "plt.scatter(test['ENGINESIZE'], test['CO2EMISSIONS'])\n",
    "plt.plot(test['ENGINESIZE'],test['CO2EMISSIONS_prediction'], color='red')\n",
    "plt.xlabel(\"Engine size\")\n",
    "plt.ylabel(\"Emissions\")\n",
    "plt.show()"
   ],
   "id": "2ef98e81f10212a6",
   "outputs": [
    {
     "data": {
      "text/plain": [
       "<Figure size 640x480 with 1 Axes>"
      ],
      "image/png": "[encoded data removed]"
     },
     "metadata": {},
     "output_type": "display_data"
    }
   ],
   "execution_count": 60
  },
  {
   "metadata": {
    "ExecuteTime": {
     "end_time": "2024-12-08T12:16:09.185551Z",
     "start_time": "2024-12-08T12:16:08.902777Z"
    }
   },
   "cell_type": "code",
   "source": [
    "# Plot the difference between actual and predicted values\n",
    "test[['CO2EMISSIONS', 'CO2EMISSIONS_prediction']].head(20).plot(kind='bar', figsize=(12, 6))\n"
   ],
   "id": "a6ba37aa9f97b68c",
   "outputs": [
    {
     "data": {
      "text/plain": [
       "<Axes: >"
      ]
     },
     "execution_count": 66,
     "metadata": {},
     "output_type": "execute_result"
    },
    {
     "data": {
      "text/plain": [
       "<Figure size 1200x600 with 1 Axes>"
      ],
      "image/png": "[encoded data removed]"
     },
     "metadata": {},
     "output_type": "display_data"
    }
   ],
   "execution_count": 66
  },
  {
   "metadata": {
    "ExecuteTime": {
     "end_time": "2024-12-08T12:19:32.850577Z",
     "start_time": "2024-12-08T12:19:32.843958Z"
    }
   },
   "cell_type": "code",
   "source": [
    "# Calculating the residual sum of squares\n",
    "\n",
    "def residual_sum_sqr(input_feature, actual_values, slope, intercept):\n",
    "    prediction = slope * input_feature + intercept\n",
    "\n",
    "    residual = (actual_values - prediction)\n",
    "    RSS = (residual ** 2).sum()\n",
    "\n",
    "    return RSS"
   ],
   "id": "218d6cc89c3b2ff6",
   "outputs": [],
   "execution_count": 68
  },
  {
   "metadata": {
    "ExecuteTime": {
     "end_time": "2024-12-08T12:21:00.896479Z",
     "start_time": "2024-12-08T12:21:00.888267Z"
    }
   },
   "cell_type": "code",
   "source": [
    "# Calculating error\n",
    "\n",
    "print(f\"RSS: {residual_sum_sqr(test['ENGINESIZE'], test['CO2EMISSIONS'], slope, intercept)}\")"
   ],
   "id": "61b161833b01dbe2",
   "outputs": [
    {
     "name": "stdout",
     "output_type": "stream",
     "text": [
      "RSS: 159741.10295932175\n"
     ]
    }
   ],
   "execution_count": 70
  },
  {
   "metadata": {},
   "cell_type": "markdown",
   "source": "# Making predictions by building a regression model with skitlearn",
   "id": "f7e5499a7825a108"
  },
  {
   "metadata": {
    "ExecuteTime": {
     "end_time": "2024-12-08T12:31:26.123847Z",
     "start_time": "2024-12-08T12:31:26.110787Z"
    }
   },
   "cell_type": "code",
   "source": [
    "# Training the model\n",
    "\n",
    "regresssion_model = linear_model.LinearRegression()\n",
    "\n",
    "regresssion_model.fit(train[['ENGINESIZE']], train[['CO2EMISSIONS']])\n",
    "\n",
    "model_coefficients = regresssion_model.coef_\n",
    "intercept = regresssion_model.intercept_\n",
    "\n",
    "print(f\"slope = {model_coefficients[0]}\")\n",
    "print(f\"Intercept = {intercept}\")"
   ],
   "id": "c97b9d834dabe856",
   "outputs": [
    {
     "name": "stdout",
     "output_type": "stream",
     "text": [
      "slope = [38.79512384]\n",
      "Intercept = [127.16989951]\n"
     ]
    }
   ],
   "execution_count": 80
  },
  {
   "metadata": {
    "ExecuteTime": {
     "end_time": "2024-12-08T12:35:33.554076Z",
     "start_time": "2024-12-08T12:35:33.528716Z"
    }
   },
   "cell_type": "code",
   "source": [
    "# Predicting values for the test dataset\n",
    "test.loc[:, 'CO2EMISSIONS_pred_model'] = regresssion_model.predict(test[['ENGINESIZE']])\n",
    "test\n"
   ],
   "id": "6840d2beafafd3b8",
   "outputs": [
    {
     "data": {
      "text/plain": [
       "      ENGINESIZE  CO2EMISSIONS  CO2EMISSIONS_prediction  \\\n",
       "853            2           202                      224   \n",
       "854            3           255                      262   \n",
       "855            2           191                      224   \n",
       "856            2           198                      224   \n",
       "857            1           161                      197   \n",
       "...          ...           ...                      ...   \n",
       "1062           3           271                      243   \n",
       "1063           3           264                      251   \n",
       "1064           3           271                      243   \n",
       "1065           3           260                      251   \n",
       "1066           3           294                      251   \n",
       "\n",
       "      CO2EMISSIONS_pred_model  \n",
       "853                       224  \n",
       "854                       262  \n",
       "855                       224  \n",
       "856                       224  \n",
       "857                       197  \n",
       "...                       ...  \n",
       "1062                      243  \n",
       "1063                      251  \n",
       "1064                      243  \n",
       "1065                      251  \n",
       "1066                      251  \n",
       "\n",
       "[214 rows x 4 columns]"
      ],
      "text/html": [
       "<div>\n",
       "<style scoped>\n",
       "    .dataframe tbody tr th:only-of-type {\n",
       "        vertical-align: middle;\n",
       "    }\n",
       "\n",
       "    .dataframe tbody tr th {\n",
       "        vertical-align: top;\n",
       "    }\n",
       "\n",
       "    .dataframe thead th {\n",
       "        text-align: right;\n",
       "    }\n",
       "</style>\n",
       "<table border=\"1\" class=\"dataframe\">\n",
       "  <thead>\n",
       "    <tr style=\"text-align: right;\">\n",
       "      <th></th>\n",
       "      <th>ENGINESIZE</th>\n",
       "      <th>CO2EMISSIONS</th>\n",
       "      <th>CO2EMISSIONS_prediction</th>\n",
       "      <th>CO2EMISSIONS_pred_model</th>\n",
       "    </tr>\n",
       "  </thead>\n",
       "  <tbody>\n",
       "    <tr>\n",
       "      <th>853</th>\n",
       "      <td>2</td>\n",
       "      <td>202</td>\n",
       "      <td>224</td>\n",
       "      <td>224</td>\n",
       "    </tr>\n",
       "    <tr>\n",
       "      <th>854</th>\n",
       "      <td>3</td>\n",
       "      <td>255</td>\n",
       "      <td>262</td>\n",
       "      <td>262</td>\n",
       "    </tr>\n",
       "    <tr>\n",
       "      <th>855</th>\n",
       "      <td>2</td>\n",
       "      <td>191</td>\n",
       "      <td>224</td>\n",
       "      <td>224</td>\n",
       "    </tr>\n",
       "    <tr>\n",
       "      <th>856</th>\n",
       "      <td>2</td>\n",
       "      <td>198</td>\n",
       "      <td>224</td>\n",
       "      <td>224</td>\n",
       "    </tr>\n",
       "    <tr>\n",
       "      <th>857</th>\n",
       "      <td>1</td>\n",
       "      <td>161</td>\n",
       "      <td>197</td>\n",
       "      <td>197</td>\n",
       "    </tr>\n",
       "    <tr>\n",
       "      <th>...</th>\n",
       "      <td>...</td>\n",
       "      <td>...</td>\n",
       "      <td>...</td>\n",
       "      <td>...</td>\n",
       "    </tr>\n",
       "    <tr>\n",
       "      <th>1062</th>\n",
       "      <td>3</td>\n",
       "      <td>271</td>\n",
       "      <td>243</td>\n",
       "      <td>243</td>\n",
       "    </tr>\n",
       "    <tr>\n",
       "      <th>1063</th>\n",
       "      <td>3</td>\n",
       "      <td>264</td>\n",
       "      <td>251</td>\n",
       "      <td>251</td>\n",
       "    </tr>\n",
       "    <tr>\n",
       "      <th>1064</th>\n",
       "      <td>3</td>\n",
       "      <td>271</td>\n",
       "      <td>243</td>\n",
       "      <td>243</td>\n",
       "    </tr>\n",
       "    <tr>\n",
       "      <th>1065</th>\n",
       "      <td>3</td>\n",
       "      <td>260</td>\n",
       "      <td>251</td>\n",
       "      <td>251</td>\n",
       "    </tr>\n",
       "    <tr>\n",
       "      <th>1066</th>\n",
       "      <td>3</td>\n",
       "      <td>294</td>\n",
       "      <td>251</td>\n",
       "      <td>251</td>\n",
       "    </tr>\n",
       "  </tbody>\n",
       "</table>\n",
       "<p>214 rows × 4 columns</p>\n",
       "</div>"
      ]
     },
     "execution_count": 82,
     "metadata": {},
     "output_type": "execute_result"
    }
   ],
   "execution_count": 82
  },
  {
   "metadata": {
    "ExecuteTime": {
     "end_time": "2024-12-08T12:36:24.530451Z",
     "start_time": "2024-12-08T12:36:24.218097Z"
    }
   },
   "cell_type": "code",
   "source": [
    "# Plot the difference between actual and predicted values\n",
    "test[['CO2EMISSIONS', 'CO2EMISSIONS_prediction', 'CO2EMISSIONS_pred_model']].head(20).plot(kind='bar', figsize=(12, 6))"
   ],
   "id": "ada22d92ce34e11a",
   "outputs": [
    {
     "data": {
      "text/plain": [
       "<Axes: >"
      ]
     },
     "execution_count": 83,
     "metadata": {},
     "output_type": "execute_result"
    },
    {
     "data": {
      "text/plain": [
       "<Figure size 1200x600 with 1 Axes>"
      ],
      "image/png": "[encoded data removed]"
     },
     "metadata": {},
     "output_type": "display_data"
    }
   ],
   "execution_count": 83
  },
  {
   "metadata": {},
   "cell_type": "markdown",
   "source": "# Making predictions by building a regression model with skitlearn and using all numerical features",
   "id": "3554e15388142844"
  },
  {
   "metadata": {
    "ExecuteTime": {
     "end_time": "2024-12-08T12:53:02.118363Z",
     "start_time": "2024-12-08T12:53:02.109324Z"
    }
   },
   "cell_type": "code",
   "source": [
    "# Data split\n",
    "num = int(len(data) * 0.8)\n",
    "\n",
    "train = data.loc[:num, ['ENGINESIZE', 'CYLINDERS', 'FUELCONSUMPTION_CITY', 'FUELCONSUMPTION_HWY', 'FUELCONSUMPTION_COMB', 'FUELCONSUMPTION_COMB_MPG', 'CO2EMISSIONS']]\n",
    "test = data.loc[num:, ['ENGINESIZE', 'CYLINDERS', 'FUELCONSUMPTION_CITY', 'FUELCONSUMPTION_HWY', 'FUELCONSUMPTION_COMB', 'FUELCONSUMPTION_COMB_MPG', 'CO2EMISSIONS']]\n"
   ],
   "id": "678deb3c041cb9de",
   "outputs": [],
   "execution_count": 95
  },
  {
   "metadata": {
    "ExecuteTime": {
     "end_time": "2024-12-08T12:53:59.513690Z",
     "start_time": "2024-12-08T12:53:59.487058Z"
    }
   },
   "cell_type": "code",
   "source": [
    "# Training the model\n",
    "\n",
    "regresssion_model = linear_model.LinearRegression()\n",
    "\n",
    "regresssion_model.fit(train[['ENGINESIZE', 'CYLINDERS', 'FUELCONSUMPTION_CITY', 'FUELCONSUMPTION_HWY', 'FUELCONSUMPTION_COMB', 'FUELCONSUMPTION_COMB_MPG']], train[['CO2EMISSIONS']])\n",
    "\n",
    "model_coefficients = regresssion_model.coef_\n",
    "intercept = regresssion_model.intercept_\n",
    "\n",
    "print(f\"slope = {model_coefficients[0]}\")\n",
    "print(f\"Intercept = {intercept}\")"
   ],
   "id": "d36e8950cc7c5610",
   "outputs": [
    {
     "name": "stdout",
     "output_type": "stream",
     "text": [
      "slope = [ 7.8494973   8.42021999 -3.60209627  2.47635951  4.34849132 -4.07949843]\n",
      "Intercept = [262.4985275]\n"
     ]
    }
   ],
   "execution_count": 96
  },
  {
   "metadata": {
    "ExecuteTime": {
     "end_time": "2024-12-08T12:55:30.130668Z",
     "start_time": "2024-12-08T12:55:30.113149Z"
    }
   },
   "cell_type": "code",
   "source": [
    "# Predicting values for the test dataset\n",
    "test.loc[:, 'CO2EMISSIONS_pred_model'] = regresssion_model.predict(test[['ENGINESIZE', 'CYLINDERS', 'FUELCONSUMPTION_CITY', 'FUELCONSUMPTION_HWY', 'FUELCONSUMPTION_COMB', 'FUELCONSUMPTION_COMB_MPG']])\n",
    "test\n"
   ],
   "id": "6635ab6686479a1f",
   "outputs": [
    {
     "data": {
      "text/plain": [
       "      ENGINESIZE  CYLINDERS  FUELCONSUMPTION_CITY  FUELCONSUMPTION_HWY  \\\n",
       "853            2          4                     9                    8   \n",
       "854            3          6                    12                    9   \n",
       "855            2          4                     9                    7   \n",
       "856            2          4                     9                    7   \n",
       "857            1          4                     7                    6   \n",
       "...          ...        ...                   ...                  ...   \n",
       "1062           3          6                    13                    9   \n",
       "1063           3          6                    13                    9   \n",
       "1064           3          6                    13                    9   \n",
       "1065           3          6                    12                    9   \n",
       "1066           3          6                    14                   10   \n",
       "\n",
       "      FUELCONSUMPTION_COMB  FUELCONSUMPTION_COMB_MPG  CO2EMISSIONS  \\\n",
       "853                      8                        32           202   \n",
       "854                     11                        25           255   \n",
       "855                      8                        34           191   \n",
       "856                      8                        33           198   \n",
       "857                      7                        40           161   \n",
       "...                    ...                       ...           ...   \n",
       "1062                    11                        24           271   \n",
       "1063                    11                        25           264   \n",
       "1064                    11                        24           271   \n",
       "1065                    11                        25           260   \n",
       "1066                    12                        22           294   \n",
       "\n",
       "      CO2EMISSIONS_pred_model  \n",
       "853                       211  \n",
       "854                       265  \n",
       "855                       197  \n",
       "856                       202  \n",
       "857                       164  \n",
       "...                       ...  \n",
       "1062                      265  \n",
       "1063                      262  \n",
       "1064                      265  \n",
       "1065                      261  \n",
       "1066                      275  \n",
       "\n",
       "[214 rows x 8 columns]"
      ],
      "text/html": [
       "<div>\n",
       "<style scoped>\n",
       "    .dataframe tbody tr th:only-of-type {\n",
       "        vertical-align: middle;\n",
       "    }\n",
       "\n",
       "    .dataframe tbody tr th {\n",
       "        vertical-align: top;\n",
       "    }\n",
       "\n",
       "    .dataframe thead th {\n",
       "        text-align: right;\n",
       "    }\n",
       "</style>\n",
       "<table border=\"1\" class=\"dataframe\">\n",
       "  <thead>\n",
       "    <tr style=\"text-align: right;\">\n",
       "      <th></th>\n",
       "      <th>ENGINESIZE</th>\n",
       "      <th>CYLINDERS</th>\n",
       "      <th>FUELCONSUMPTION_CITY</th>\n",
       "      <th>FUELCONSUMPTION_HWY</th>\n",
       "      <th>FUELCONSUMPTION_COMB</th>\n",
       "      <th>FUELCONSUMPTION_COMB_MPG</th>\n",
       "      <th>CO2EMISSIONS</th>\n",
       "      <th>CO2EMISSIONS_pred_model</th>\n",
       "    </tr>\n",
       "  </thead>\n",
       "  <tbody>\n",
       "    <tr>\n",
       "      <th>853</th>\n",
       "      <td>2</td>\n",
       "      <td>4</td>\n",
       "      <td>9</td>\n",
       "      <td>8</td>\n",
       "      <td>8</td>\n",
       "      <td>32</td>\n",
       "      <td>202</td>\n",
       "      <td>211</td>\n",
       "    </tr>\n",
       "    <tr>\n",
       "      <th>854</th>\n",
       "      <td>3</td>\n",
       "      <td>6</td>\n",
       "      <td>12</td>\n",
       "      <td>9</td>\n",
       "      <td>11</td>\n",
       "      <td>25</td>\n",
       "      <td>255</td>\n",
       "      <td>265</td>\n",
       "    </tr>\n",
       "    <tr>\n",
       "      <th>855</th>\n",
       "      <td>2</td>\n",
       "      <td>4</td>\n",
       "      <td>9</td>\n",
       "      <td>7</td>\n",
       "      <td>8</td>\n",
       "      <td>34</td>\n",
       "      <td>191</td>\n",
       "      <td>197</td>\n",
       "    </tr>\n",
       "    <tr>\n",
       "      <th>856</th>\n",
       "      <td>2</td>\n",
       "      <td>4</td>\n",
       "      <td>9</td>\n",
       "      <td>7</td>\n",
       "      <td>8</td>\n",
       "      <td>33</td>\n",
       "      <td>198</td>\n",
       "      <td>202</td>\n",
       "    </tr>\n",
       "    <tr>\n",
       "      <th>857</th>\n",
       "      <td>1</td>\n",
       "      <td>4</td>\n",
       "      <td>7</td>\n",
       "      <td>6</td>\n",
       "      <td>7</td>\n",
       "      <td>40</td>\n",
       "      <td>161</td>\n",
       "      <td>164</td>\n",
       "    </tr>\n",
       "    <tr>\n",
       "      <th>...</th>\n",
       "      <td>...</td>\n",
       "      <td>...</td>\n",
       "      <td>...</td>\n",
       "      <td>...</td>\n",
       "      <td>...</td>\n",
       "      <td>...</td>\n",
       "      <td>...</td>\n",
       "      <td>...</td>\n",
       "    </tr>\n",
       "    <tr>\n",
       "      <th>1062</th>\n",
       "      <td>3</td>\n",
       "      <td>6</td>\n",
       "      <td>13</td>\n",
       "      <td>9</td>\n",
       "      <td>11</td>\n",
       "      <td>24</td>\n",
       "      <td>271</td>\n",
       "      <td>265</td>\n",
       "    </tr>\n",
       "    <tr>\n",
       "      <th>1063</th>\n",
       "      <td>3</td>\n",
       "      <td>6</td>\n",
       "      <td>13</td>\n",
       "      <td>9</td>\n",
       "      <td>11</td>\n",
       "      <td>25</td>\n",
       "      <td>264</td>\n",
       "      <td>262</td>\n",
       "    </tr>\n",
       "    <tr>\n",
       "      <th>1064</th>\n",
       "      <td>3</td>\n",
       "      <td>6</td>\n",
       "      <td>13</td>\n",
       "      <td>9</td>\n",
       "      <td>11</td>\n",
       "      <td>24</td>\n",
       "      <td>271</td>\n",
       "      <td>265</td>\n",
       "    </tr>\n",
       "    <tr>\n",
       "      <th>1065</th>\n",
       "      <td>3</td>\n",
       "      <td>6</td>\n",
       "      <td>12</td>\n",
       "      <td>9</td>\n",
       "      <td>11</td>\n",
       "      <td>25</td>\n",
       "      <td>260</td>\n",
       "      <td>261</td>\n",
       "    </tr>\n",
       "    <tr>\n",
       "      <th>1066</th>\n",
       "      <td>3</td>\n",
       "      <td>6</td>\n",
       "      <td>14</td>\n",
       "      <td>10</td>\n",
       "      <td>12</td>\n",
       "      <td>22</td>\n",
       "      <td>294</td>\n",
       "      <td>275</td>\n",
       "    </tr>\n",
       "  </tbody>\n",
       "</table>\n",
       "<p>214 rows × 8 columns</p>\n",
       "</div>"
      ]
     },
     "execution_count": 97,
     "metadata": {},
     "output_type": "execute_result"
    }
   ],
   "execution_count": 97
  },
  {
   "metadata": {
    "ExecuteTime": {
     "end_time": "2024-12-08T12:56:11.079381Z",
     "start_time": "2024-12-08T12:56:10.753295Z"
    }
   },
   "cell_type": "code",
   "source": [
    "\n",
    "# Plot the difference between actual and predicted values\n",
    "test[['CO2EMISSIONS', 'CO2EMISSIONS_pred_model']].head(20).plot(kind='bar', figsize=(12, 6))"
   ],
   "id": "ba27de89755d389c",
   "outputs": [
    {
     "data": {
      "text/plain": [
       "<Axes: >"
      ]
     },
     "execution_count": 98,
     "metadata": {},
     "output_type": "execute_result"
    },
    {
     "data": {
      "text/plain": [
       "<Figure size 1200x600 with 1 Axes>"
      ],
      "image/png": "[encoded data removed]"
     },
     "metadata": {},
     "output_type": "display_data"
    }
   ],
   "execution_count": 98
  },
  {
   "metadata": {
    "ExecuteTime": {
     "end_time": "2024-12-08T12:59:02.114373Z",
     "start_time": "2024-12-08T12:59:02.104493Z"
    }
   },
   "cell_type": "code",
   "source": [
    "# RSS calculation\n",
    "\n",
    "residual = (test['CO2EMISSIONS'] - test['CO2EMISSIONS_pred_model'])\n",
    "RSS = (residual ** 2).sum()\n",
    "\n",
    "print(f\"RSS = {RSS}\")\n"
   ],
   "id": "3b23d0716e61ea24",
   "outputs": [
    {
     "name": "stdout",
     "output_type": "stream",
     "text": [
      "RSS = 47596.17181092819\n"
     ]
    }
   ],
   "execution_count": 99
  },
  {
   "metadata": {},
   "cell_type": "markdown",
   "source": "By including all the numerical features in the dataset I could reduce the RSS of the model by 70% (15 941 with only 1 feature and 47 596 with all numerical features)",
   "id": "a969dca2550ed2e"
  }
 ],
 "metadata": {
  "kernelspec": {
   "display_name": "Python 3",
   "language": "python",
   "name": "python3"
  },
  "language_info": {
   "codemirror_mode": {
    "name": "ipython",
    "version": 2
   },
   "file_extension": ".py",
   "mimetype": "text/x-python",
   "name": "python",
   "nbconvert_exporter": "python",
   "pygments_lexer": "ipython2",
   "version": "2.7.6"
  }
 },
 "nbformat": 4,
 "nbformat_minor": 5
}
