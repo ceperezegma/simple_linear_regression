{
 "cells": [
  {
   "cell_type": "code",
   "id": "initial_id",
   "metadata": {
    "collapsed": true,
    "ExecuteTime": {
     "end_time": "2025-02-01T11:10:11.146433Z",
     "start_time": "2025-02-01T11:10:11.141845Z"
    }
   },
   "source": [
    "import numpy as np\n",
    "import math\n",
    "import matplotlib.pyplot as plt"
   ],
   "outputs": [],
   "execution_count": 90
  },
  {
   "metadata": {},
   "cell_type": "markdown",
   "source": [
    "<a name=\"toc_40291_2.1\"></a>\n",
    "## Gradient descent summary\n",
    "So far in this course, you have developed a linear model that predicts $f_{w,b}(x^{(i)})$:\n",
    "$$f_{w,b}(x^{(i)}) = wx^{(i)} + b \\tag{1}$$\n",
    "In linear regression, you utilize input training data to fit the parameters $w$,$b$ by minimizing a measure of the error between our predictions $f_{w,b}(x^{(i)})$ and the actual data $y^{(i)}$. The measure is called the $cost$, $J(w,b)$. In training you measure the cost over all of our training samples $x^{(i)},y^{(i)}$\n",
    "$$J(w,b) = \\frac{1}{2m} \\sum\\limits_{i = 0}^{m-1} (f_{w,b}(x^{(i)}) - y^{(i)})^2\\tag{2}$$"
   ],
   "id": "535391ee88a5fcdf"
  },
  {
   "metadata": {},
   "cell_type": "markdown",
   "source": [
    "\n",
    "In lecture, *gradient descent* was described as:\n",
    "\n",
    "$$\\begin{align*} \\text{repeat}&\\text{ until convergence:} \\; \\lbrace \\newline\n",
    "\\;  w &= w -  \\alpha \\frac{\\partial J(w,b)}{\\partial w} \\tag{3}  \\; \\newline\n",
    " b &= b -  \\alpha \\frac{\\partial J(w,b)}{\\partial b}  \\newline \\rbrace\n",
    "\\end{align*}$$\n",
    "where, parameters $w$, $b$ are updated simultaneously.\n",
    "The gradient is defined as:\n",
    "$$\n",
    "\\begin{align}\n",
    "\\frac{\\partial J(w,b)}{\\partial w}  &= \\frac{1}{m} \\sum\\limits_{i = 0}^{m-1} (f_{w,b}(x^{(i)}) - y^{(i)})x^{(i)} \\tag{4}\\\\\n",
    "  \\frac{\\partial J(w,b)}{\\partial b}  &= \\frac{1}{m} \\sum\\limits_{i = 0}^{m-1} (f_{w,b}(x^{(i)}) - y^{(i)}) \\tag{5}\\\\\n",
    "\\end{align}\n",
    "$$\n",
    "\n",
    "Here *simultaniously* means that you calculate the partial derivatives for all the parameters before updating any of the parameters."
   ],
   "id": "8d9017fe8a973fff"
  },
  {
   "metadata": {},
   "cell_type": "markdown",
   "source": [
    "<a name=\"toc_40291_2.2\"></a>\n",
    "## Implement Gradient Descent\n",
    "You will implement gradient descent algorithm for one feature. You will need three functions.\n",
    "- `compute_gradient` implementing equation (4) and (5) above\n",
    "- `compute_cost` implementing equation (2) above (code from previous lab)\n",
    "- `gradient_descent`, utilizing compute_gradient and compute_cost\n",
    "\n",
    "Conventions:\n",
    "- The naming of python variables containing partial derivatives follows this pattern,$\\frac{\\partial J(w,b)}{\\partial b}$  will be `dj_db`.\n",
    "- w.r.t is With Respect To, as in partial derivative of $J(wb)$ With Respect To $b$.\n"
   ],
   "id": "20b53708018fa6aa"
  },
  {
   "metadata": {},
   "cell_type": "markdown",
   "source": [
    "<a name=\"toc_40291_2.0.1\"></a>\n",
    "### Compute_Linear_model\n",
    "This was developed in the last lab. We'll need it again here."
   ],
   "id": "677df5f14a82717"
  },
  {
   "metadata": {
    "ExecuteTime": {
     "end_time": "2025-02-01T09:37:38.719141Z",
     "start_time": "2025-02-01T09:37:38.713005Z"
    }
   },
   "cell_type": "code",
   "source": [
    "# Load our data set\n",
    "x_train = np.array([1.0, 2.0])  #features\n",
    "y_train = np.array([300.0, 500.0])  #target value"
   ],
   "id": "106a6fac1f4711a4",
   "outputs": [],
   "execution_count": 5
  },
  {
   "metadata": {},
   "cell_type": "markdown",
   "source": [
    "<a name=\"toc_40291_2.0.1\"></a>\n",
    "### Dataset"
   ],
   "id": "fd7e31c220cbdc06"
  },
  {
   "metadata": {
    "ExecuteTime": {
     "end_time": "2025-02-01T09:40:25.627011Z",
     "start_time": "2025-02-01T09:40:25.620280Z"
    }
   },
   "cell_type": "code",
   "source": [
    "def compute_linear_model(x, w, b):\n",
    "    f_wb = np.dot(x,w) + b   # vector\n",
    "    return f_wb"
   ],
   "id": "769318c03ad4f432",
   "outputs": [],
   "execution_count": 14
  },
  {
   "metadata": {},
   "cell_type": "markdown",
   "source": [
    "<a name=\"toc_40291_2.0.1\"></a>\n",
    "### Compute_Cost\n",
    "This was developed in the last lab. We'll need it again here."
   ],
   "id": "cce131e487ad7075"
  },
  {
   "metadata": {
    "ExecuteTime": {
     "end_time": "2025-02-01T11:04:47.584122Z",
     "start_time": "2025-02-01T11:04:47.576453Z"
    }
   },
   "cell_type": "code",
   "source": [
    "def compute_cost(x, y, w, b):\n",
    "\n",
    "    m = x.shape[0]\n",
    "    cost = 0\n",
    "    err = compute_linear_model(x_train, w, b) - y    # vector\n",
    "    for i in range(m):\n",
    "            cost += err[i]**2\n",
    "    cost = 1/(2*m) * cost   # number\n",
    "\n",
    "    return cost"
   ],
   "id": "8053b93a7d649add",
   "outputs": [],
   "execution_count": 85
  },
  {
   "metadata": {},
   "cell_type": "markdown",
   "source": [
    "<a name=\"toc_40291_2.3\"></a>\n",
    "### compute_gradient\n",
    "<a name='ex-01'></a>\n",
    "`compute_gradient`  implements (4) and (5) above and returns $\\frac{\\partial J(w,b)}{\\partial w}$,$\\frac{\\partial J(w,b)}{\\partial b}$. The embedded comments describe the operations."
   ],
   "id": "cc04225178884878"
  },
  {
   "metadata": {
    "ExecuteTime": {
     "end_time": "2025-02-01T10:24:19.394719Z",
     "start_time": "2025-02-01T10:24:19.387840Z"
    }
   },
   "cell_type": "code",
   "source": [
    "def compute_gradient(x, y, w, b):\n",
    "\n",
    "    m = x.shape[0]\n",
    "    dj_dw = 0\n",
    "    dj_db = 0\n",
    "\n",
    "    f_wb = compute_linear_model(x, w, b)    # vector\n",
    "    err_i = f_wb - y    # vector\n",
    "    for i in range(m):\n",
    "        dj_dw += err_i[i] * x[i]    # number\n",
    "        dj_db += err_i[i]    # number\n",
    "\n",
    "    return dj_dw, dj_db\n"
   ],
   "id": "b0cc3b0d14d530a6",
   "outputs": [],
   "execution_count": 45
  },
  {
   "metadata": {
    "ExecuteTime": {
     "end_time": "2025-02-01T10:38:03.395088Z",
     "start_time": "2025-02-01T10:38:03.387396Z"
    }
   },
   "cell_type": "code",
   "source": [
    "# initialize parameters\n",
    "w_init = 0.4\n",
    "b_init = 1.5\n",
    "\n",
    "f_wb = compute_linear_model(x_train, w_init, b_init)\n",
    "print(f\"f(w,b): {f_wb}\")\n",
    "\n",
    "cost = compute_cost(x_train, y_train, w_init, b_init)\n",
    "print(f\"cost(w,b): {cost}\")\n",
    "\n",
    "dj_dw, dj_db = compute_gradient(x_train, y_train, w_init, b_init)\n",
    "print(f\"dj_dw: {dj_dw:0.3e}\", f\"dj_db: {dj_db:0.3e}\")"
   ],
   "id": "1497dd5ed58549a7",
   "outputs": [
    {
     "name": "stdout",
     "output_type": "stream",
     "text": [
      "f(w,b): [1.9 2.3]\n",
      "error: [-298.1 -497.7]\n",
      "cost(w,b): 84142.225\n",
      "dj_dw: -1.294e+03 dj_db: -7.958e+02\n"
     ]
    }
   ],
   "execution_count": 49
  },
  {
   "metadata": {},
   "cell_type": "markdown",
   "source": [
    "<a name=\"toc_40291_2.5\"></a>\n",
    "###  Gradient Descent\n",
    "Now that gradients can be computed,  gradient descent, described in equation (3) above can be implemented below in `gradient_descent`. The details of the implementation are described in the comments. Below, you will utilize this function to find optimal values of $w$ and $b$ on the training data."
   ],
   "id": "b8516593964e7415"
  },
  {
   "metadata": {
    "ExecuteTime": {
     "end_time": "2025-02-01T11:00:02.702582Z",
     "start_time": "2025-02-01T11:00:02.691300Z"
    }
   },
   "cell_type": "code",
   "source": [
    "def gradient_descent(x, y, w_init, b_init, alpha, iterations):\n",
    "\n",
    "    cost_hist = []\n",
    "    param_hist = []\n",
    "\n",
    "    w = w_init\n",
    "    b = b_init\n",
    "\n",
    "    for i in range(iterations):\n",
    "        # Calculates gradient\n",
    "        dj_dw, dj_db = compute_gradient(x, y, w, b)    # numbers\n",
    "\n",
    "        # Update w, b\n",
    "        w = w - alpha * dj_dw    # number\n",
    "        b = b - alpha * dj_db    # number\n",
    "\n",
    "        # Saves cost and parameters\n",
    "        cost_hist.append(compute_cost(x, y, w, b))\n",
    "        param_hist.append([w, b])\n",
    "\n",
    "        # Print actual values\n",
    "        if i % math.ceil(iterations/10) == 0:\n",
    "            print(f\"iteration: {i:4}: Cost: {cost_hist[-1]:0.2e} \",\n",
    "                  f\"dj_dw: {dj_dw:0.3e}, dj_db: {dj_db:0.3e} \",\n",
    "                  f\"w: {w:0.3e}, b:{b:0.3e}\")\n",
    "\n",
    "    return w, b, cost_hist, param_hist\n"
   ],
   "id": "f59f127c9ed7880e",
   "outputs": [],
   "execution_count": 81
  },
  {
   "metadata": {
    "ExecuteTime": {
     "end_time": "2025-02-01T11:07:00.356583Z",
     "start_time": "2025-02-01T11:07:00.189958Z"
    }
   },
   "cell_type": "code",
   "source": [
    "# initialize parameters\n",
    "w_init = 0\n",
    "b_init = 0\n",
    "\n",
    "# some gradient descent settings\n",
    "iterations = 10_000\n",
    "tmp_alpha = 1.0e-2\n",
    "\n",
    "# run gradient descent\n",
    "w_final, b_final, cost_hist, param_hist = gradient_descent(x_train ,y_train, w_init, b_init, tmp_alpha,\n",
    "                                                    iterations)\n",
    "print(f\"(w,b) found by gradient descent: ({w_final:8.4f}, {b_final:8.4f})\")"
   ],
   "id": "acecf50775950787",
   "outputs": [
    {
     "name": "stdout",
     "output_type": "stream",
     "text": [
      "iteration:    0: Cost: 7.37e+04  dj_dw: -1.300e+03, dj_db: -8.000e+02  w: 1.300e+01, b:8.000e+00\n",
      "iteration: 1000: Cost: 7.91e-01  dj_dw: -3.577e-01, dj_db: 5.788e-01  w: 1.976e+02, b:1.040e+02\n",
      "iteration: 2000: Cost: 4.27e-02  dj_dw: -8.307e-02, dj_db: 1.344e-01  w: 1.994e+02, b:1.009e+02\n",
      "iteration: 3000: Cost: 2.30e-03  dj_dw: -1.929e-02, dj_db: 3.121e-02  w: 1.999e+02, b:1.002e+02\n",
      "iteration: 4000: Cost: 1.24e-04  dj_dw: -4.480e-03, dj_db: 7.248e-03  w: 2.000e+02, b:1.000e+02\n",
      "iteration: 5000: Cost: 6.69e-06  dj_dw: -1.040e-03, dj_db: 1.683e-03  w: 2.000e+02, b:1.000e+02\n",
      "iteration: 6000: Cost: 3.61e-07  dj_dw: -2.416e-04, dj_db: 3.909e-04  w: 2.000e+02, b:1.000e+02\n",
      "iteration: 7000: Cost: 1.95e-08  dj_dw: -5.610e-05, dj_db: 9.077e-05  w: 2.000e+02, b:1.000e+02\n",
      "iteration: 8000: Cost: 1.05e-09  dj_dw: -1.303e-05, dj_db: 2.108e-05  w: 2.000e+02, b:1.000e+02\n",
      "iteration: 9000: Cost: 5.66e-11  dj_dw: -3.025e-06, dj_db: 4.895e-06  w: 2.000e+02, b:1.000e+02\n",
      "(w,b) found by gradient descent: (200.0000, 100.0000)\n"
     ]
    }
   ],
   "execution_count": 87
  },
  {
   "metadata": {
    "ExecuteTime": {
     "end_time": "2025-02-01T11:10:17.958598Z",
     "start_time": "2025-02-01T11:10:15.711228Z"
    }
   },
   "cell_type": "code",
   "source": [
    "# plot cost versus iteration\n",
    "fig, (ax1, ax2) = plt.subplots(1, 2, constrained_layout=True, figsize=(12,4))\n",
    "ax1.plot(cost_hist[:100])\n",
    "ax2.plot(1000 + np.arange(len(cost_hist[1000:])), cost_hist[1000:])\n",
    "ax1.set_title(\"Cost vs. iteration(start)\");  ax2.set_title(\"Cost vs. iteration (end)\")\n",
    "ax1.set_ylabel('Cost')            ;  ax2.set_ylabel('Cost')\n",
    "ax1.set_xlabel('iteration step')  ;  ax2.set_xlabel('iteration step')\n",
    "plt.show()"
   ],
   "id": "b5d2616b92b63611",
   "outputs": [
    {
     "data": {
      "text/plain": [
       "<Figure size 1200x400 with 2 Axes>"
      ],
      "image/png": "[encoded data removed]"
     },
     "metadata": {},
     "output_type": "display_data"
    }
   ],
   "execution_count": 91
  },
  {
   "metadata": {},
   "cell_type": "code",
   "outputs": [],
   "execution_count": null,
   "source": "",
   "id": "2a6e8d69f4e3c83f"
  }
 ],
 "metadata": {
  "kernelspec": {
   "display_name": "Python 3",
   "language": "python",
   "name": "python3"
  },
  "language_info": {
   "codemirror_mode": {
    "name": "ipython",
    "version": 2
   },
   "file_extension": ".py",
   "mimetype": "text/x-python",
   "name": "python",
   "nbconvert_exporter": "python",
   "pygments_lexer": "ipython2",
   "version": "2.7.6"
  }
 },
 "nbformat": 4,
 "nbformat_minor": 5
}
